{
 "cells": [
  {
   "cell_type": "markdown",
   "metadata": {},
   "source": [
    "# Problem Sloving And Programming\n",
    "### Date 12-June-2019\n",
    "### Day Obectives\n",
    "- String Slicing\n",
    "- Functions in Python\n",
    "- Basic Problems related to conditional statements using functions\n",
    "- Iterations\n",
    "- python Data Structures-List .Tuples,and Dictionaries\n",
    "- Basics Operations an data structures\n",
    "- Applying  Data Structures to solve the problems"
   ]
  },
  {
   "cell_type": "code",
   "execution_count": null,
   "metadata": {},
   "outputs": [],
   "source": []
  },
  {
   "cell_type": "markdown",
   "metadata": {},
   "source": [
    "# String Slicing"
   ]
  },
  {
   "cell_type": "code",
   "execution_count": 34,
   "metadata": {},
   "outputs": [
    {
     "data": {
      "text/plain": [
       "'1otP'"
      ]
     },
     "execution_count": 34,
     "metadata": {},
     "output_type": "execute_result"
    }
   ],
   "source": [
    "s1 = 'Python1'\n",
    "\n",
    "s1[len(s1)-1]# one way of accessing last character\n",
    "s1[-1] # another way of accessing last character\n",
    "s1[-2] # string slicing to accessing penultmate charatcer\n",
    "s1[0:2] # accessing the \n",
    "s1[-2:] # accessing to character\n",
    "# Accessing all character except first and last character\n",
    "s1[1:5]\n",
    "s1[1:-1]\n",
    "# accessing middle character of an odd  string\n",
    "s1[len(s1)//2]\n",
    "s1[::-1] # reverse of a string\n",
    "s1[-1::-1]# another way of reverse string\n",
    "s1[-1:-3:-1]# last two characters of a reverse string in last\n",
    "s1[len(s1)//2:len(s1)//2-2:-1]# reverse the middle characters in an even length string\n",
    "s1[::2]#accessing alternate characters in a string \n",
    "s1[::-2] # accessing alternate characters of a sting reverse of a string "
   ]
  },
  {
   "cell_type": "markdown",
   "metadata": {},
   "source": [
    "# Functions"
   ]
  },
  {
   "cell_type": "code",
   "execution_count": 37,
   "metadata": {},
   "outputs": [
    {
     "data": {
      "text/plain": [
       "'lina'"
      ]
     },
     "execution_count": 37,
     "metadata": {},
     "output_type": "execute_result"
    }
   ],
   "source": [
    "def reversestring(s):\n",
    "    return(s[::-1])\n",
    "reversestring('anil')"
   ]
  },
  {
   "cell_type": "code",
   "execution_count": 40,
   "metadata": {},
   "outputs": [
    {
     "data": {
      "text/plain": [
       "False"
      ]
     },
     "execution_count": 40,
     "metadata": {},
     "output_type": "execute_result"
    }
   ],
   "source": [
    "# Functio to check if a string a palimderme\n",
    "def palimdrome(s):\n",
    "    if s==s[::-1]:\n",
    "        return True\n",
    "    else:\n",
    "        return False\n",
    "palimdrome('mada')"
   ]
  },
  {
   "cell_type": "code",
   "execution_count": 45,
   "metadata": {
    "scrolled": true
   },
   "outputs": [
    {
     "name": "stdout",
     "output_type": "stream",
     "text": [
      "True\n",
      "False\n"
     ]
    }
   ],
   "source": [
    "# Function to check if a given is a leapYearr\n",
    "def isleapyear(s):\n",
    "    if s%400==0 or (s%100!=0 and s%4==0):\n",
    "        return True\n",
    "    return False\n",
    "print(isleapyear(2000))\n",
    "print(isleapyear(2019))"
   ]
  },
  {
   "cell_type": "code",
   "execution_count": 55,
   "metadata": {},
   "outputs": [
    {
     "data": {
      "text/plain": [
       "4"
      ]
     },
     "execution_count": 55,
     "metadata": {},
     "output_type": "execute_result"
    }
   ],
   "source": [
    "# Function to count the no of digits in a given number\n",
    "def digits(s):\n",
    "    return len(str(s))\n",
    "digits(1234)"
   ]
  },
  {
   "cell_type": "code",
   "execution_count": 57,
   "metadata": {},
   "outputs": [
    {
     "data": {
      "text/plain": [
       "4"
      ]
     },
     "execution_count": 57,
     "metadata": {},
     "output_type": "execute_result"
    }
   ],
   "source": [
    "# Functions to identity the greatest of 4 numbers\n",
    "def gst4(n1,n2,n3,n4):\n",
    "    if n1>n2 and n1>n3 and n1>n4:\n",
    "        return n1\n",
    "    elif n2>n3 and n2>n4:\n",
    "        return n2\n",
    "    elif n3>n4:\n",
    "        return n3\n",
    "    return n4\n",
    "gst4(1,2,3,4)"
   ]
  },
  {
   "cell_type": "markdown",
   "metadata": {},
   "source": [
    "# Iterations\n",
    "* for\n",
    "* while"
   ]
  },
  {
   "cell_type": "code",
   "execution_count": 63,
   "metadata": {},
   "outputs": [
    {
     "name": "stdout",
     "output_type": "stream",
     "text": [
      "1 =>2 =>3 =>4 =>5 =>6 =>7 =>8 =>9 =>10 =>11 =>12 =>13 =>14 =>15 =>16 =>17 =>18 =>19 =>20 =>21 =>22 =>23 =>24 =>25 =>26 =>27 =>28 =>29 =>30 =>31 =>32 =>33 =>34 =>35 =>36 =>37 =>38 =>39 =>40 =>41 =>42 =>43 =>44 =>45 =>46 =>47 =>48 =>49 =>50 =>"
     ]
    }
   ],
   "source": [
    "# Functions to print n  natural numbers\n",
    "def printNnaturalNumbers(n):\n",
    "    for counter  in range(1,n+1):\n",
    "        print(counter,end=' =>')\n",
    "    return\n",
    "printNnaturalNumbers(50)\n"
   ]
  },
  {
   "cell_type": "code",
   "execution_count": 64,
   "metadata": {
    "scrolled": true
   },
   "outputs": [
    {
     "name": "stdout",
     "output_type": "stream",
     "text": [
      "1 2 3 4 5 6 7 8 9 10 11 12 "
     ]
    }
   ],
   "source": [
    "def natural(n):\n",
    "    count = 1\n",
    "    while count <=n:\n",
    "        print(count, end=\" \")\n",
    "        count=count+1\n",
    "    return\n",
    "natural(12)"
   ]
  },
  {
   "cell_type": "code",
   "execution_count": 15,
   "metadata": {},
   "outputs": [
    {
     "name": "stdout",
     "output_type": "stream",
     "text": [
      "6 12 18 24 30 36 42 48 54 60 66 72 78 84 90 96 102 108 114 120 126 132 138 144 150 156 162 168 174 180 186 192 198 "
     ]
    }
   ],
   "source": [
    "# Function to print all numbers diivsible by 6 and  not a factor of 100 in a given range(lb,ub) inclusive\n",
    "def factor(lb,ub):\n",
    "    for i in range(1,ub+1):\n",
    "        if i%6==0 and i%100!=0:\n",
    "            print(i, end=\" \")\n",
    "    return\n",
    "factor(100,200)\n",
    "        \n",
    "        \n",
    "    \n",
    "    "
   ]
  },
  {
   "cell_type": "code",
   "execution_count": 39,
   "metadata": {},
   "outputs": [
    {
     "name": "stdout",
     "output_type": "stream",
     "text": [
      "1,2,3,4,6,12,"
     ]
    }
   ],
   "source": [
    "# Function to find generate the listof factors for a given number\n",
    "# 12-> 1 2 3 4 56 6 12\n",
    "def factors(a):\n",
    "    for i in range(1,a+1):\n",
    "        if a%i==0:\n",
    "            print(i,end=\",\")\n",
    "    return\n",
    "factors(12)\n",
    "\n"
   ]
  },
  {
   "cell_type": "code",
   "execution_count": 71,
   "metadata": {},
   "outputs": [
    {
     "data": {
      "text/plain": [
       "120"
      ]
     },
     "execution_count": 71,
     "metadata": {},
     "output_type": "execute_result"
    }
   ],
   "source": [
    "# Function to calculate the factorial of a given number\n",
    "def factorial(a):\n",
    "    b=1\n",
    "    for i in range(1,a+1):\n",
    "        b=b*i\n",
    "    return b\n",
    "#factorial(5)"
   ]
  },
  {
   "cell_type": "code",
   "execution_count": 47,
   "metadata": {},
   "outputs": [
    {
     "data": {
      "text/plain": [
       "True"
      ]
     },
     "execution_count": 47,
     "metadata": {},
     "output_type": "execute_result"
    }
   ],
   "source": [
    "# Function ton check if a given number is prime\n",
    "def isprime(a):\n",
    "    i=1\n",
    "    c=0\n",
    "    for i in range(i,a+1):\n",
    "        if a%i==0:\n",
    "            c=c+1\n",
    "    if c==2:\n",
    "        return True\n",
    "    else:\n",
    "        return False\n",
    "isprime(5)\n",
    "    "
   ]
  },
  {
   "cell_type": "code",
   "execution_count": 53,
   "metadata": {},
   "outputs": [
    {
     "data": {
      "text/plain": [
       "526.68"
      ]
     },
     "execution_count": 53,
     "metadata": {},
     "output_type": "execute_result"
    }
   ],
   "source": [
    "# function to calculate the average first n numbers\n",
    "def avgnum(a):\n",
    "    primecount=0\n",
    "    sum=0\n",
    "    seqcount=2\n",
    "    while primecount<a:\n",
    "        if isprime(seqcount):\n",
    "            primecount+=1\n",
    "        sum+=seqcount\n",
    "        seqcount+=1\n",
    "    return sum/a\n",
    "avgnum(50)"
   ]
  },
  {
   "cell_type": "code",
   "execution_count": null,
   "metadata": {},
   "outputs": [],
   "source": [
    "# Function to generate all perfect number in a given range"
   ]
  },
  {
   "cell_type": "code",
   "execution_count": 3,
   "metadata": {},
   "outputs": [
    {
     "name": "stdout",
     "output_type": "stream",
     "text": [
      "100,102,104,106,108,110,112,114,116,118,120,122,124,126,128,130,132,134,136,138,140,142,144,146,148,"
     ]
    }
   ],
   "source": [
    "# Function to print the alternate values in a range\n",
    "#inclusive[100,200]......1000....200\n",
    "#exclusiv(100,200)......101,103\n",
    "def alternate(start,end):\n",
    "    for i in range(start,end+1,2):\n",
    "        print(i,end=',')\n",
    "    return\n",
    "alternate(100,150)"
   ]
  },
  {
   "cell_type": "code",
   "execution_count": 10,
   "metadata": {},
   "outputs": [
    {
     "name": "stdout",
     "output_type": "stream",
     "text": [
      "100,97,94,91,88,85,82,79,76,73,70,67,64,61,58,55,52,49,46,43,40,37,34,31,28,25,22,19,16,13,10,7,4,"
     ]
    }
   ],
   "source": [
    "# Reverse of given range\n",
    "def reverse(start,end):\n",
    "    for i in range(start,end+1,-1):\n",
    "        print(i,end=',')\n",
    "    return\n",
    "reverse(100,1)"
   ]
  },
  {
   "cell_type": "code",
   "execution_count": 20,
   "metadata": {},
   "outputs": [
    {
     "name": "stdout",
     "output_type": "stream",
     "text": [
      "99,97,95,93,91,89,87,85,83,81,79,77,75,73,71,69,67,65,63,61,59,57,55,53,51,49,47,45,43,41,39,37,35,33,31,29,27,25,23,21,19,17,15,13,11,9,7,5,3,1,"
     ]
    }
   ],
   "source": [
    "# ReverseOdd numbers of given range\n",
    "def reverseodd(start,end):\n",
    "    for i in range(start,end,-1):\n",
    "        if i%2!=0:\n",
    "            print(i,end=',')\n",
    "    return\n",
    "reverseodd(100,0)"
   ]
  },
  {
   "cell_type": "code",
   "execution_count": 25,
   "metadata": {},
   "outputs": [
    {
     "data": {
      "text/plain": [
       "1275"
      ]
     },
     "execution_count": 25,
     "metadata": {},
     "output_type": "execute_result"
    }
   ],
   "source": [
    "# Function to calculate the  sum of numbers in a range\n",
    "def sum(start,end):\n",
    "    sum=0\n",
    "    for i in range(start,end+1):\n",
    "        sum=sum+i\n",
    "    #print(sum,end=\",\")\n",
    "    return sum\n",
    "sum(1,50)               # (50*51/2 1*2/2)"
   ]
  },
  {
   "cell_type": "code",
   "execution_count": 36,
   "metadata": {},
   "outputs": [
    {
     "data": {
      "text/plain": [
       "3.0"
      ]
     },
     "execution_count": 36,
     "metadata": {},
     "output_type": "execute_result"
    }
   ],
   "source": [
    "# Function to Calculate the average of a given range\n",
    "def avg(start,end):\n",
    "    sum=0\n",
    "    c=0\n",
    "    for i in range(start, end+1):\n",
    "        sum=sum+i   # sum calculation\n",
    "        c=c+1      # counting number of values\n",
    "    return sum/c    # sum/(end-start)\n",
    "avg(1,5)\n",
    "        \n",
    "        \n",
    "        "
   ]
  },
  {
   "cell_type": "markdown",
   "metadata": {},
   "source": [
    "# Advanced program\n",
    "* Function to calculate avg of all factorials of a gien number\n",
    "* Function to generate N odd amstrong number\n",
    "* Function to generate Multiplaction table for a given range\n"
   ]
  },
  {
   "cell_type": "code",
   "execution_count": 82,
   "metadata": {},
   "outputs": [
    {
     "data": {
      "text/plain": [
       "2.0"
      ]
     },
     "execution_count": 82,
     "metadata": {},
     "output_type": "execute_result"
    }
   ],
   "source": [
    "#  Function to calculate avg of all factorials of a given a range\n",
    "\n",
    "def avgfactorial(a,b):\n",
    "    sum=0\n",
    "    c=0\n",
    "    for a in range(a,b+1):\n",
    "        sum+=factorial(a)\n",
    "        c=c+1\n",
    "    return sum//c\n",
    "avgfactorial(1,5)"
   ]
  },
  {
   "cell_type": "code",
   "execution_count": null,
   "metadata": {},
   "outputs": [],
   "source": []
  },
  {
   "cell_type": "code",
   "execution_count": 60,
   "metadata": {},
   "outputs": [
    {
     "name": "stdout",
     "output_type": "stream",
     "text": [
      "10 * 100 = 1000\n",
      "10 * 101 = 1010\n",
      "10 * 102 = 1020\n",
      "10 * 103 = 1030\n",
      "10 * 104 = 1040\n",
      "10 * 105 = 1050\n",
      "10 * 106 = 1060\n",
      "10 * 107 = 1070\n",
      "10 * 108 = 1080\n",
      "10 * 109 = 1090\n",
      "10 * 110 = 1100\n"
     ]
    }
   ],
   "source": [
    "# Function to generate Multiplaction table for a given range\n",
    "def table(n):\n",
    "    for i in range(100,111):\n",
    "        print(n,'*',i,'=',n*i)\n",
    "table(10)"
   ]
  },
  {
   "cell_type": "code",
   "execution_count": 83,
   "metadata": {},
   "outputs": [
    {
     "name": "stdout",
     "output_type": "stream",
     "text": [
      "2000 2004 2008 2012 2016 2020 2024 2028 2032 2036 2040 2044 2048 "
     ]
    }
   ],
   "source": [
    "# Function to genetarte all leap years in a given time period\n",
    "# 2000-2010->2000 2004 2008 2012 2020\n",
    "#isleapyear(year)\n",
    "#generateleapyear(startyear,endyear)\n",
    "def isleapyear(year):\n",
    "    if year%400==0 or (year%100!=0 and year%4==0):\n",
    "        return True\n",
    "    return False\n",
    "        \n",
    "def generateleapyear(startyear,endyear):\n",
    "    for year in range(startyear,endyear+1):\n",
    "        if isleapyear(year):\n",
    "            print(year, end=\" \")\n",
    "    return\n",
    "\n",
    "generateleapyear(2000,2050)"
   ]
  },
  {
   "cell_type": "code",
   "execution_count": 98,
   "metadata": {},
   "outputs": [
    {
     "data": {
      "text/plain": [
       "1095"
      ]
     },
     "execution_count": 98,
     "metadata": {},
     "output_type": "execute_result"
    }
   ],
   "source": [
    "# calculate the no of days in a given time period using leapyear logic \n",
    "# for every year in the given time period if the year is \n",
    "\n",
    "def days(start,end):\n",
    "    sum=0\n",
    "    for i in range(start,end+1):\n",
    "        if isleapyear(i):\n",
    "            sum=sum+366\n",
    "        else:\n",
    "            sum=sum+365\n",
    "    return sum\n",
    "days(2001,2003)\n"
   ]
  },
  {
   "cell_type": "code",
   "execution_count": null,
   "metadata": {},
   "outputs": [],
   "source": [
    "# function to calculate number of hours for a given period\n",
    "# (11,1975,3,1999)\n",
    "# no of hours(11, 1975,3,1999)-->\n",
    "# no of hours(5,2019,6,2019)-->1464\n",
    "\n",
    "def noofhours(start,end):\n",
    "    for i in range(start,end+1):\n",
    "        "
   ]
  }
 ],
 "metadata": {
  "kernelspec": {
   "display_name": "Python 3",
   "language": "python",
   "name": "python3"
  },
  "language_info": {
   "codemirror_mode": {
    "name": "ipython",
    "version": 3
   },
   "file_extension": ".py",
   "mimetype": "text/x-python",
   "name": "python",
   "nbconvert_exporter": "python",
   "pygments_lexer": "ipython3",
   "version": "3.7.3"
  }
 },
 "nbformat": 4,
 "nbformat_minor": 2
}
