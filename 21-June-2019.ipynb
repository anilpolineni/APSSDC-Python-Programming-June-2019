{
 "cells": [
  {
   "cell_type": "code",
   "execution_count": 66,
   "metadata": {},
   "outputs": [
    {
     "name": "stdout",
     "output_type": "stream",
     "text": [
      "Anil added to contacts\n"
     ]
    }
   ],
   "source": [
    "# Function to add cintact to contacts test file\n",
    "from packages.validators import PhoneNumberValidator as pnv,emailvalidator as ev\n",
    "def addContact(name, phone, email):\n",
    "    # store data as name,phone,email in the contacts file    \n",
    "    filename = 'DataFiles/contacts.txt'\n",
    "    if not checkContactExists(name):\n",
    "        if pnv(phone) and ev(email):\n",
    "            with open(filename, 'a') as f:\n",
    "                line = name + ',' + str(phone) + ',' + email + '\\n'\n",
    "                f.write(line)\n",
    "            print(name, 'added to contacts')\n",
    "        else:\n",
    "            print('Invalid Phone number or Email')\n",
    "            return\n",
    "    else:\n",
    "        print(name, 'already exists')\n",
    "    return\n",
    "\n",
    "import re\n",
    "# Function to check if contact already exists\n",
    "def checkContactExists(name):\n",
    "    filename = 'DataFiles/contacts.txt'\n",
    "    with open(filename, 'r') as f:\n",
    "        filedata = f.read()\n",
    "        pattern = name+','\n",
    "    return re.search(pattern, filedata)\n",
    "\n",
    "addContact('Anil', 8919066729, 'kumar2@gmail.com')"
   ]
  },
  {
   "cell_type": "code",
   "execution_count": 57,
   "metadata": {},
   "outputs": [
    {
     "data": {
      "text/plain": [
       "'0,2,3,5,6,6,99,'"
      ]
     },
     "execution_count": 57,
     "metadata": {},
     "output_type": "execute_result"
    }
   ],
   "source": [
    "\n",
    "def alldata(li):\n",
    "    s = ''\n",
    "    for i in range(0,len(li)):\n",
    "        s += str(li[i])+','\n",
    "    return s    \n",
    "alldata([0,2,3,5,6,6,99])"
   ]
  },
  {
   "cell_type": "code",
   "execution_count": 36,
   "metadata": {},
   "outputs": [],
   "source": [
    "def csvToList(filename):\n",
    "    li = []\n",
    "    with open(filename, 'r') as f:\n",
    "        for line in f:\n",
    "            li.append(line.split(','))\n",
    "    return li"
   ]
  },
  {
   "cell_type": "code",
   "execution_count": null,
   "metadata": {},
   "outputs": [],
   "source": []
  },
  {
   "cell_type": "code",
   "execution_count": 37,
   "metadata": {},
   "outputs": [
    {
     "ename": "NameError",
     "evalue": "name 'li' is not defined",
     "output_type": "error",
     "traceback": [
      "\u001b[1;31m---------------------------------------------------------------------------\u001b[0m",
      "\u001b[1;31mNameError\u001b[0m                                 Traceback (most recent call last)",
      "\u001b[1;32m<ipython-input-37-777a0ad131ec>\u001b[0m in \u001b[0;36m<module>\u001b[1;34m\u001b[0m\n\u001b[0;32m      6\u001b[0m             \u001b[0ms\u001b[0m\u001b[1;33m+=\u001b[0m\u001b[0mstr\u001b[0m\u001b[1;33m(\u001b[0m\u001b[0mlls\u001b[0m\u001b[1;33m[\u001b[0m\u001b[0mj\u001b[0m\u001b[1;33m]\u001b[0m\u001b[1;33m)\u001b[0m\u001b[1;33m+\u001b[0m\u001b[1;34m','\u001b[0m\u001b[1;33m\u001b[0m\u001b[1;33m\u001b[0m\u001b[0m\n\u001b[0;32m      7\u001b[0m     \u001b[1;32mreturn\u001b[0m \u001b[0ms\u001b[0m\u001b[1;33m\u001b[0m\u001b[1;33m\u001b[0m\u001b[0m\n\u001b[1;32m----> 8\u001b[1;33m \u001b[0mdata\u001b[0m\u001b[1;33m(\u001b[0m\u001b[0mli\u001b[0m\u001b[1;33m)\u001b[0m\u001b[1;33m\u001b[0m\u001b[1;33m\u001b[0m\u001b[0m\n\u001b[0m",
      "\u001b[1;31mNameError\u001b[0m: name 'li' is not defined"
     ]
    }
   ],
   "source": [
    "def data(li):\n",
    "    s = ''\n",
    "    for i in range(0,len(li)):\n",
    "        lls = li[i]\n",
    "        for j in range(0,len(lls)):\n",
    "            s+=str(lls[j])+','\n",
    "    return s\n",
    "data(li)"
   ]
  },
  {
   "cell_type": "code",
   "execution_count": 50,
   "metadata": {},
   "outputs": [
    {
     "name": "stdout",
     "output_type": "stream",
     "text": [
      "Anil,8919066729,kumar2@gmail.com\n",
      "\n"
     ]
    }
   ],
   "source": [
    "def getdata():\n",
    "    s=''\n",
    "    with open(\"DataFiles/contacts.txt\",'r') as f:\n",
    "        s=f.read()\n",
    "        print(s)\n",
    "        \n",
    "getdata()"
   ]
  },
  {
   "cell_type": "code",
   "execution_count": 41,
   "metadata": {},
   "outputs": [],
   "source": [
    "def save2File(s):\n",
    "    with open(\"DataFiles/contacts.txt\",'w') as f:\n",
    "        f.write(s)\n",
    "        print(\"Data updated...\")"
   ]
  },
  {
   "cell_type": "code",
   "execution_count": 58,
   "metadata": {},
   "outputs": [],
   "source": [
    "# Edit the Contacts in a file\n",
    "\n",
    "def editContact(name,number,email):\n",
    "    ls = csvToList('DataFiles/contacts.txt')\n",
    "    for i in range(0,len(ls)):\n",
    "        lss = ls[i]\n",
    "        for j in range(0,len(lss)):\n",
    "            if(name == lss[j]):\n",
    "                lss[0] = name\n",
    "                lss[1] = number\n",
    "                lss[2] = email\n",
    "                print(name,\" Updated..\")    \n",
    "            else:\n",
    "                print(\"not updated\")\n",
    "    s=alldata(lss)\n",
    "    save2File(s)\n",
    "    return s"
   ]
  },
  {
   "cell_type": "code",
   "execution_count": 59,
   "metadata": {},
   "outputs": [
    {
     "name": "stdout",
     "output_type": "stream",
     "text": [
      "Anil  Updated..\n",
      "not updated\n",
      "not updated\n",
      "Data updated...\n"
     ]
    },
    {
     "data": {
      "text/plain": [
       "'Anil,9876543210,anil.1@gmail.com,'"
      ]
     },
     "execution_count": 59,
     "metadata": {},
     "output_type": "execute_result"
    }
   ],
   "source": [
    "temp = editContact('Anil',9876543210,'anil.1@gmail.com')\n",
    "temp"
   ]
  },
  {
   "cell_type": "code",
   "execution_count": 67,
   "metadata": {},
   "outputs": [],
   "source": [
    "def deleteContact(name):\n",
    "    ls = csvToList('DataFiles/contacts.txt')\n",
    "    for i in range(0,len(ls)):\n",
    "        lss = ls[i]\n",
    "        for j in range(0,len(lss)):\n",
    "            if(name == lss[j]):\n",
    "                ls.pop(i)\n",
    "                print(name,\" Deleted..\")    \n",
    "            else:\n",
    "                print(\"not Deleted\")\n",
    "    s=alldata(ls)\n",
    "    save2File(s)\n",
    "    return s"
   ]
  },
  {
   "cell_type": "code",
   "execution_count": 68,
   "metadata": {},
   "outputs": [
    {
     "name": "stdout",
     "output_type": "stream",
     "text": [
      "Anil  Deleted..\n",
      "not Deleted\n",
      "not Deleted\n",
      "Data updated...\n"
     ]
    },
    {
     "data": {
      "text/plain": [
       "''"
      ]
     },
     "execution_count": 68,
     "metadata": {},
     "output_type": "execute_result"
    }
   ],
   "source": [
    "deleteContact(\"Anil\")"
   ]
  },
  {
   "cell_type": "code",
   "execution_count": null,
   "metadata": {},
   "outputs": [],
   "source": []
  }
 ],
 "metadata": {
  "kernelspec": {
   "display_name": "Python 3",
   "language": "python",
   "name": "python3"
  }
 },
 "nbformat": 4,
 "nbformat_minor": 2
}
