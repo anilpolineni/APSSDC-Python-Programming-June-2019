{
 "cells": [
  {
   "cell_type": "markdown",
   "metadata": {},
   "source": [
    "# Day Objective\n",
    "## File Handling\n",
    "- File Handling\n",
    "    -Basic File Data Processing\n",
    "        - Accessing and Modifying File Data\n",
    "    - Caharacter Count\n",
    "    - Line Count\n",
    "    - File Count\n",
    "    - Word Count\n",
    "    - Unique Word Count\n",
    "    "
   ]
  },
  {
   "cell_type": "code",
   "execution_count": 1,
   "metadata": {},
   "outputs": [
    {
     "name": "stdout",
     "output_type": "stream",
     "text": [
      "Hello Good Eveningwelcome\n",
      "iitcollege\n",
      "welcome To iitcollege\n"
     ]
    }
   ],
   "source": [
    "# Read a file - file should exist(Read mode)\n",
    "# write to a file- Existing(append) or new file(write mode)\n",
    "def readfile(filepath):\n",
    "    with open(filepath,'r') as f:\n",
    "        filedata=f.read()\n",
    "    return filedata\n",
    "filepath='DataFiles/data.txt'\n",
    "print(readfile(filepath))"
   ]
  },
  {
   "cell_type": "code",
   "execution_count": 37,
   "metadata": {},
   "outputs": [
    {
     "name": "stdout",
     "output_type": "stream",
     "text": [
      "58\n"
     ]
    }
   ],
   "source": [
    "def charcount(filepath):\n",
    "    with open(filepath,'r') as f:\n",
    "        print(len(f.read()))\n",
    "filepath='DataFiles/data.txt'\n",
    "charcount(filepath)\n",
    "\n",
    "    "
   ]
  },
  {
   "cell_type": "code",
   "execution_count": 3,
   "metadata": {},
   "outputs": [
    {
     "name": "stdout",
     "output_type": "stream",
     "text": [
      "3\n"
     ]
    }
   ],
   "source": [
    "def linescount(filepath):\n",
    "    with open(filepath,'r') as f:\n",
    "        c=0\n",
    "        for i in f:\n",
    "            c=c+1\n",
    "        print(c)\n",
    "filepath='DataFiles/data.txt'\n",
    "linescount(filepath)"
   ]
  },
  {
   "cell_type": "code",
   "execution_count": 2,
   "metadata": {},
   "outputs": [
    {
     "name": "stdout",
     "output_type": "stream",
     "text": [
      "7\n"
     ]
    }
   ],
   "source": [
    "def words(filepath):\n",
    "    with open(filepath,'r') as f:\n",
    "            a=f.read().split()\n",
    "            print(len(a))\n",
    "filepath='DataFiles/data.txt'\n",
    "words(filepath)"
   ]
  },
  {
   "cell_type": "code",
   "execution_count": 42,
   "metadata": {},
   "outputs": [
    {
     "name": "stdout",
     "output_type": "stream",
     "text": [
      "3\n"
     ]
    }
   ],
   "source": [
    "def unique(filepath):\n",
    "    with open(filepath,'r') as f:\n",
    "        for word in f:\n",
    "            if word not in f:\n",
    "                file.write(str(word) + \"\\n\")\n",
    "filepath='DataFiles/data.txt'\n",
    "linecount(filepath)\n",
    "                "
   ]
  },
  {
   "cell_type": "code",
   "execution_count": null,
   "metadata": {},
   "outputs": [],
   "source": []
  },
  {
   "cell_type": "code",
   "execution_count": null,
   "metadata": {},
   "outputs": [],
   "source": []
  }
 ],
 "metadata": {
  "kernelspec": {
   "display_name": "Python 3",
   "language": "python",
   "name": "python3"
  },
  "language_info": {
   "codemirror_mode": {
    "name": "ipython",
    "version": 3
   },
   "file_extension": ".py",
   "mimetype": "text/x-python",
   "name": "python",
   "nbconvert_exporter": "python",
   "pygments_lexer": "ipython3",
   "version": "3.7.3"
  }
 },
 "nbformat": 4,
 "nbformat_minor": 2
}
