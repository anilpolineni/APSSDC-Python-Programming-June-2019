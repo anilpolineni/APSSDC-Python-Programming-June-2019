{
 "cells": [
  {
   "cell_type": "markdown",
   "metadata": {},
   "source": [
    "# Notebook Basics\n",
    "\n",
    "**Bold**\n",
    "\n",
    "*hello*\n",
    "\n",
    "***Python***\n",
    "* hello<br>\n",
    "   * sublist1\n",
    "   * sublist1\n",
    "   \n",
    "   \n",
    "  1. Ordered list elements 1\n",
    "  2. Orsered list elements 2\n",
    "  \n",
    "  \n",
    "- [x] option1\n",
    "- [x] option2\n",
    "- [x] option3\n",
    "\n",
    ".[1]: http://google.com/       \"Google\"\n",
    "\n",
    ".[2]: http://yahoo.com/        \"Yahoo\"\n",
    "\n",
    " [jupyter](jupyter.png)\n",
    " \n",
    " ![jupyter](jupyter.png)\n",
    " \n",
    " \n",
    " <img src=\"jupyter.png\" style=\"float:left\">\n"
   ]
  },
  {
   "cell_type": "markdown",
   "metadata": {},
   "source": [
    "# Python Basics\n",
    "\n",
    "##  python version3.7\n",
    "- Scripting\n",
    "- Object Oriented\n",
    "- Functional"
   ]
  },
  {
   "cell_type": "code",
   "execution_count": 7,
   "metadata": {
    "scrolled": true
   },
   "outputs": [
    {
     "name": "stdout",
     "output_type": "stream",
     "text": [
      "welcome to Apssdc..!==>Hello Python\n"
     ]
    }
   ],
   "source": [
    "# python comments\n",
    "\n",
    "print(\"welcome to Apssdc..!\", end=\"==>\") # Basic Output\n",
    "print('Hello Python')\n",
    "\n"
   ]
  },
  {
   "cell_type": "markdown",
   "metadata": {},
   "source": [
    "# Aassgnment\n"
   ]
  },
  {
   "cell_type": "code",
   "execution_count": 15,
   "metadata": {},
   "outputs": [
    {
     "name": "stdout",
     "output_type": "stream",
     "text": [
      "123 456 789\n"
     ]
    }
   ],
   "source": [
    "n1=123456 # single variable Assignment\n",
    "\n",
    "n2 = n3 = n4 =n1 #Multi Variable assignment of the same\n",
    "\n",
    "a,b,c = 123,456,789# Multivariable assignments with didfferent values\n",
    "\n",
    "print(a,b,c)"
   ]
  },
  {
   "cell_type": "markdown",
   "metadata": {},
   "source": [
    "# Operators\n",
    "## Arthematic Operators\n",
    "- +\n",
    "- -\n",
    "- *\n",
    "- /\n",
    "- **\n",
    "- //\n"
   ]
  },
  {
   "cell_type": "code",
   "execution_count": 37,
   "metadata": {},
   "outputs": [
    {
     "data": {
      "text/plain": [
       "83"
      ]
     },
     "execution_count": 37,
     "metadata": {},
     "output_type": "execute_result"
    }
   ],
   "source": [
    "n1 + n2\n",
    "n3=n1 *n2\n",
    "type(n3)\n",
    "len(str(n3))\n",
    "atoms= 10**82\n",
    "len(str(atoms))"
   ]
  },
  {
   "cell_type": "markdown",
   "metadata": {},
   "source": [
    "# Conditionals"
   ]
  },
  {
   "cell_type": "code",
   "execution_count": 39,
   "metadata": {},
   "outputs": [
    {
     "data": {
      "text/plain": [
       "False"
      ]
     },
     "execution_count": 39,
     "metadata": {},
     "output_type": "execute_result"
    }
   ],
   "source": [
    "atoms<10 ** 45"
   ]
  },
  {
   "cell_type": "markdown",
   "metadata": {},
   "source": [
    "# DataTypes\n",
    "\n",
    "- int\n",
    "- float\n",
    "- string\n"
   ]
  },
  {
   "cell_type": "code",
   "execution_count": 43,
   "metadata": {},
   "outputs": [
    {
     "data": {
      "text/plain": [
       "'12'"
      ]
     },
     "execution_count": 43,
     "metadata": {},
     "output_type": "execute_result"
    }
   ],
   "source": [
    "type(a)\n",
    "s1 = 'python'\n",
    "type(s1)\n",
    "\n",
    "f1 = 12.356\n",
    "type(f1)\n",
    "float(str(int(f1)))\n"
   ]
  },
  {
   "cell_type": "markdown",
   "metadata": {},
   "source": [
    "# Conditionals"
   ]
  },
  {
   "cell_type": "code",
   "execution_count": 47,
   "metadata": {},
   "outputs": [
    {
     "name": "stdout",
     "output_type": "stream",
     "text": [
      "False\n"
     ]
    }
   ],
   "source": [
    "if atoms < 10 ** 9:\n",
    "    print(\"True\")\n",
    "else:\n",
    "    print('False')"
   ]
  },
  {
   "cell_type": "markdown",
   "metadata": {},
   "source": [
    "# Check if a number is Even\n"
   ]
  },
  {
   "cell_type": "code",
   "execution_count": 1,
   "metadata": {
    "scrolled": true
   },
   "outputs": [
    {
     "name": "stdout",
     "output_type": "stream",
     "text": [
      "Odd\n"
     ]
    }
   ],
   "source": [
    "n=123\n",
    "if n%2==0:\n",
    "    print('Even')\n",
    "else:\n",
    "    print('Odd')"
   ]
  },
  {
   "cell_type": "code",
   "execution_count": 1,
   "metadata": {},
   "outputs": [
    {
     "name": "stdout",
     "output_type": "stream",
     "text": [
      "enter the value:897\n",
      "enter the value:967\n",
      "enter the value:567\n",
      "967 is the greatest\n"
     ]
    }
   ],
   "source": [
    "# Find the greatest of 3 numbers\n",
    "\n",
    "n1 =int(input('enter the value:'))\n",
    "n2 =int(input('enter the value:'))\n",
    "n3 =int(input('enter the value:'))\n",
    "if n1 >n2 and n1>n3:\n",
    "    print(n1,'is the greatest')\n",
    "elif n2>n3:\n",
    "    print(n2,'is the greatest')\n",
    "else:\n",
    "    print(n3,'is the greatest')"
   ]
  },
  {
   "cell_type": "code",
   "execution_count": 3,
   "metadata": {},
   "outputs": [
    {
     "name": "stdout",
     "output_type": "stream",
     "text": [
      "enter the year:2000\n",
      "2000 is leap year\n"
     ]
    }
   ],
   "source": [
    "# Check if a year is leap year\n",
    "\n",
    "a =eval(input('enter the year:'))\n",
    "if (a%4==0 and a%100!=0 or a%400==0):\n",
    "    print(a,'is leap year')\n",
    "else:\n",
    "    print(a,'is not a leap year')"
   ]
  },
  {
   "cell_type": "markdown",
   "metadata": {},
   "source": []
  },
  {
   "cell_type": "code",
   "execution_count": 1,
   "metadata": {},
   "outputs": [
    {
     "name": "stdout",
     "output_type": "stream",
     "text": [
      "enter the range2\n",
      "enter the value4\n",
      "enter the value5\n"
     ]
    }
   ],
   "source": [
    "# check if a number exists in a given range(inclusiverange)\n",
    "n1=eval(input('enter the range'))\n",
    "lb=eval(input('enter the value'))\n",
    "ub=eval(input('enter the value'))\n",
    "if n1>=lb and n1<=ub:\n",
    "    print('it is a range')\n",
    "else:\n",
    "    ('its not a range')"
   ]
  },
  {
   "cell_type": "markdown",
   "metadata": {},
   "source": []
  },
  {
   "cell_type": "code",
   "execution_count": 7,
   "metadata": {
    "scrolled": true
   },
   "outputs": [
    {
     "name": "stdout",
     "output_type": "stream",
     "text": [
      "3\n"
     ]
    }
   ],
   "source": [
    "# calculate the no of digits in a number\n",
    "a=100\n",
    "print(len(str(a)))"
   ]
  },
  {
   "cell_type": "code",
   "execution_count": 10,
   "metadata": {},
   "outputs": [
    {
     "name": "stdout",
     "output_type": "stream",
     "text": [
      "enter the value:10\n",
      "multiple of 10\n"
     ]
    }
   ],
   "source": [
    "# check if a number is a multiple of 10\n",
    "\n",
    "a=int(input('enter the value:'))\n",
    "if a%10==0:\n",
    "    print('multiple of 10')\n",
    "else:\n",
    "    print('not a multiple number')\n"
   ]
  },
  {
   "cell_type": "code",
   "execution_count": 12,
   "metadata": {},
   "outputs": [
    {
     "name": "stdout",
     "output_type": "stream",
     "text": [
      "enter the value:45\n",
      "not a factor 1000\n"
     ]
    }
   ],
   "source": [
    "# check if a number is a factor of 1000\n",
    "\n",
    "a=int(input('enter the value:'))\n",
    "if a%1000==0:\n",
    "    print('factor of 1000')\n",
    "else:\n",
    "    print('not a factor 1000')\n",
    "\n"
   ]
  },
  {
   "cell_type": "code",
   "execution_count": null,
   "metadata": {},
   "outputs": [],
   "source": []
  },
  {
   "cell_type": "code",
   "execution_count": 13,
   "metadata": {},
   "outputs": [
    {
     "name": "stdout",
     "output_type": "stream",
     "text": [
      "notequal to 1234\n"
     ]
    }
   ],
   "source": [
    "# check if given string is equal to a number\n",
    "a=1234\n",
    "b='python'\n",
    "if str(a)==b:\n",
    "    print('equal to',a)\n",
    "else:\n",
    "    print('notequal to',a)\n",
    "    \n"
   ]
  },
  {
   "cell_type": "code",
   "execution_count": 14,
   "metadata": {},
   "outputs": [
    {
     "data": {
      "text/plain": [
       "11.090536506409418"
      ]
     },
     "execution_count": 14,
     "metadata": {},
     "output_type": "execute_result"
    }
   ],
   "source": [
    "# calculate the square root of a number wiyh out fiding\n",
    "n1=123\n",
    "n1 **0.5"
   ]
  },
  {
   "cell_type": "code",
   "execution_count": 19,
   "metadata": {},
   "outputs": [
    {
     "name": "stdout",
     "output_type": "stream",
     "text": [
      "enter the year:2050\n",
      "31536000000000000\n"
     ]
    }
   ],
   "source": [
    "# finding nano seconds\n",
    "a =int(input('enter the year:'))\n",
    "if (a%4==0 and a%100!=0 or a%400==0):\n",
    "    print(366* 24 * 60*60*(10**9))\n",
    "else:\n",
    "    print(365* 24 * 60*60*(10**9))"
   ]
  },
  {
   "cell_type": "code",
   "execution_count": null,
   "metadata": {},
   "outputs": [],
   "source": []
  }
 ],
 "metadata": {
  "kernelspec": {
   "display_name": "Python 3",
   "language": "python",
   "name": "python3"
  },
  "language_info": {
   "codemirror_mode": {
    "name": "ipython",
    "version": 3
   },
   "file_extension": ".py",
   "mimetype": "text/x-python",
   "name": "python",
   "nbconvert_exporter": "python",
   "pygments_lexer": "ipython3",
   "version": "3.7.3"
  }
 },
 "nbformat": 4,
 "nbformat_minor": 2
}
