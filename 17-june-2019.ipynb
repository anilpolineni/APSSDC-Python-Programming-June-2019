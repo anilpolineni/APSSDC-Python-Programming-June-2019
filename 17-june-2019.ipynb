{
 "cells": [
  {
   "cell_type": "code",
   "execution_count": 3,
   "metadata": {},
   "outputs": [
    {
     "name": "stdout",
     "output_type": "stream",
     "text": [
      "0 30\n"
     ]
    }
   ],
   "source": [
    "#Rahul is a very busy persion he dont wan't to waste his time . He keeps account of duration of each and every work. Now he don't even get time to calculate duration of works, So your job is to count the durations for each work and give it to rahul.\n",
    "#Input:\n",
    "#First line will be given by N number of works\n",
    "#Next N line will be given SH,SM,EH and EM  each separated by space(SH=starting hr, SM=starting min, EH=ending hr, EM=ending min)\n",
    "\n",
    "\n",
    "\n",
    "s= \"1 44 2 14\"\n",
    "def duration(s): # starting,ending hourandstaring,ending minute\n",
    "    s=s.split()\n",
    "    sh=int(s[0])\n",
    "    sm=int(s[1])\n",
    "    eh=int(s[2])\n",
    "    em=int(s[3])\n",
    "    startingminutes=(sh*60)+sm\n",
    "    endminutes=(eh*60)+em\n",
    "    return endminutes-startingminutes\n",
    "\n",
    "def timeformat(minutes):\n",
    "    hh=minutes//60\n",
    "    mm=minutes%60\n",
    "    print(hh,mm)\n",
    "    return\n",
    "mm=duration(s)\n",
    "timeformat(mm)\n"
   ]
  },
  {
   "cell_type": "markdown",
   "metadata": {},
   "source": [
    "# Play with Numbers\n",
    "\n",
    "- line 1: array size(n), no of quries(q)\n",
    "- line 2: n array elements\n",
    "- next q lines - sub array of the orginal"
   ]
  },
  {
   "cell_type": "code",
   "execution_count": null,
   "metadata": {},
   "outputs": [],
   "source": []
  },
  {
   "cell_type": "code",
   "execution_count": null,
   "metadata": {},
   "outputs": [
    {
     "name": "stdout",
     "output_type": "stream",
     "text": [
      "3\n",
      "28\n",
      "No\n"
     ]
    }
   ],
   "source": [
    "def factors(n):\n",
    "    s=0\n",
    "    for i in range(1,n+1):\n",
    "        if (i%n==0):\n",
    "            s=s+i\n",
    "        if (n==s):\n",
    "            return \"Yes\"\n",
    "        else:\n",
    "            return \"No\"\n",
    "cases=int(input())\n",
    "for i in range(cases):\n",
    "    n=int(input())\n",
    "    print(factors(n))\n",
    "            \n"
   ]
  },
  {
   "cell_type": "code",
   "execution_count": null,
   "metadata": {},
   "outputs": [],
   "source": [
    "def  natural(n):\n",
    "    r=0\n",
    "    for i in range(1,n):\n",
    "        rem=n%i\n",
    "        if rem>r:\n",
    "            r=rem\n",
    "            j=i\n",
    "    return j\n",
    "a=int(input())\n",
    "for i in range(a):\n",
    "    n=int(input())\n",
    "    print(natural(n))\n",
    "    "
   ]
  },
  {
   "cell_type": "code",
   "execution_count": 7,
   "metadata": {},
   "outputs": [
    {
     "name": "stdout",
     "output_type": "stream",
     "text": [
      "2\n"
     ]
    }
   ],
   "source": [
    "def prime(n):\n",
    "    count=0\n",
    "    for i in range(1,n+1):\n",
    "        if n%i==0:\n",
    "            count=count+1\n",
    "        if count==2:\n",
    "            print(n)\n",
    "    return\n",
    "prime(2)\n"
   ]
  },
  {
   "cell_type": "code",
   "execution_count": null,
   "metadata": {},
   "outputs": [],
   "source": [
    "def prime(n1):\n",
    "    for i in range(2,n1+1):\n",
    "        n=k\n",
    "        c=0\n",
    "    for j in range(1,n+1):\n",
    "        if n%i==0:\n",
    "            c=c+1\n",
    "        if count==2:\n",
    "            print(n)\n",
    "    return\n",
    "prime(10)"
   ]
  },
  {
   "cell_type": "code",
   "execution_count": null,
   "metadata": {},
   "outputs": [],
   "source": [
    "def countdigits(s):\n",
    "    charcount=0\n",
    "    digitscount=0\n",
    "    for i in range(0,len(s)):\n",
    "        if ord(s[i])>=97 and ord(s[i])<=32 or ord(s[i])>=65 and ord(s[i])<=9:\n",
    "            charcount+=1\n",
    "        elif ord(s[i])>=40 and ord(s[i])<=57:\n",
    "            digitscount+=1\n",
    "        print(digitscount)\n",
    "        print(charcount)\n",
    "s=input()\n",
    "countdigits(s)\n"
   ]
  },
  {
   "cell_type": "code",
   "execution_count": null,
   "metadata": {},
   "outputs": [],
   "source": []
  }
 ],
 "metadata": {
  "kernelspec": {
   "display_name": "Python 3",
   "language": "python",
   "name": "python3"
  },
  "language_info": {
   "codemirror_mode": {
    "name": "ipython",
    "version": 3
   },
   "file_extension": ".py",
   "mimetype": "text/x-python",
   "name": "python",
   "nbconvert_exporter": "python",
   "pygments_lexer": "ipython3",
   "version": "3.7.3"
  }
 },
 "nbformat": 4,
 "nbformat_minor": 2
}
