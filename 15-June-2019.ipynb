{
 "cells": [
  {
   "cell_type": "code",
   "execution_count": 4,
   "metadata": {},
   "outputs": [
    {
     "name": "stdout",
     "output_type": "stream",
     "text": [
      "1 10 1\n",
      "1\n",
      "2\n",
      "3\n",
      "4\n",
      "5\n",
      "6\n",
      "7\n",
      "8\n",
      "9\n",
      "10\n",
      "10 "
     ]
    }
   ],
   "source": [
    "#You have been given 3 integers - l, r and k. Find how many numbers between l and r (both inclusive) are divisible by k. You do not need to print these numbers, you just have to find their count.\n",
    "\n",
    "#Input Format\n",
    "#The first and only line of input contains 3 space separated integers l, r and k.\n",
    "\n",
    "#Output Format\n",
    "#Print the required answer on a single line.\n",
    "\n",
    "def countdivisor(i,j,k):\n",
    "    count=0\n",
    "    for a in range(i,j+1):\n",
    "        if a%k==0:\n",
    "            print(a)\n",
    "            count+=1\n",
    "    print(count)\n",
    "    return\n",
    "\n",
    "s=input()\n",
    "s=s.split()\n",
    "i=int(s[0])\n",
    "j=int(s[1])    \n",
    "k=int(s[2])\n",
    "countdivisor(i,j,k)"
   ]
  },
  {
   "cell_type": "code",
   "execution_count": 6,
   "metadata": {},
   "outputs": [
    {
     "name": "stdout",
     "output_type": "stream",
     "text": [
      "2\n",
      "2\n"
     ]
    }
   ],
   "source": [
    "#You have been given a positive integer N. You need to find and print the Factorial of this number. The Factorial of a positive integer N refers to the product of all number in the range from 1 to N. You can read more about the factorial of a number here.\n",
    "\n",
    "#Input Format:\n",
    "#The first and only line of the input contains a single integer N denoting the number whose factorial you need to find.\n",
    "\n",
    "#Output Format\n",
    "#Output a single line denoting the factorial of the number N.\n",
    "\n",
    "n=int(input())\n",
    "def factorial(n):\n",
    "    fact=1\n",
    "    for i in range(1,n+1):\n",
    "        fact=fact*i\n",
    "    print(fact)\n",
    "    return\n",
    "    \n",
    "factorial(n)"
   ]
  },
  {
   "cell_type": "markdown",
   "metadata": {},
   "source": [
    "# # Toggle String"
   ]
  },
  {
   "cell_type": "code",
   "execution_count": 7,
   "metadata": {},
   "outputs": [
    {
     "name": "stdout",
     "output_type": "stream",
     "text": [
      "abvfgSDG\n",
      "ABVFGsdg"
     ]
    }
   ],
   "source": [
    "#You have been given a String S consisting of uppercase and lowercase English alphabets. You need to change the case of each alphabet in this String. That is, all the uppercase letters should be converted to lowercase and all the lowercase letters should be converted to uppercase. You need to then print the resultant String to output.\n",
    "\n",
    "#Input Format\n",
    "#The first and only line of input contains the String S\n",
    "\n",
    "#Output Format\n",
    "#Print the resultant String on a single line\n",
    "\n",
    "s=input()\n",
    "def convert(s):\n",
    "    for i in s:\n",
    "        if i==i.upper():\n",
    "            n=i.lower()\n",
    "\n",
    "        elif i==i.lower():\n",
    "            n=i.upper()\n",
    "        print(n,end='')\n",
    "\n",
    "convert(s)"
   ]
  },
  {
   "cell_type": "code",
   "execution_count": 8,
   "metadata": {},
   "outputs": [
    {
     "name": "stdout",
     "output_type": "stream",
     "text": [
      "aba\n",
      "YES\n"
     ]
    }
   ],
   "source": [
    "# Palimdrome\n",
    "n=input()\n",
    "def palimdrome(n):\n",
    "    if n==n[::-1]:\n",
    "        print(\"YES\")\n",
    "    else:\n",
    "        print(\"NO\")\n",
    "palimdrome(n)\n"
   ]
  },
  {
   "cell_type": "code",
   "execution_count": null,
   "metadata": {},
   "outputs": [],
   "source": [
    "a=int(input())\n",
    "def primenumbers(a):\n",
    "    for num in range(2,a+1):\n",
    "        count = 0\n",
    "        for i in range(2,num//2+1):\n",
    "            if (num%i== 0):\n",
    "                count+=1\n",
    "                break\n",
    "        if count==0 and num!=1:\n",
    "            print(num,end=\" \")\n",
    "\n",
    "primenumbers(a)"
   ]
  },
  {
   "cell_type": "code",
   "execution_count": null,
   "metadata": {},
   "outputs": [],
   "source": [
    "def char(x,y,z):\n",
    "    i=0\n",
    "    j=0\n",
    "    for a in range(z):\n",
    "        if x[i]==y:\n",
    "            for b in range(len(y)):\n",
    "               i+=(ord(y[b])-ord('a')+1)\n",
    "               j=a+1\n",
    "               break\n",
    "            x=i*j\n",
    "            return i\n",
    "x=['aba']\n",
    "y='aba'\n",
    "z=len(x)\n",
    "i=char(x,y,z)\n",
    "print(i)"
   ]
  }
 ],
 "metadata": {
  "kernelspec": {
   "display_name": "Python 3",
   "language": "python",
   "name": "python3"
  },
  "language_info": {
   "codemirror_mode": {
    "name": "ipython",
    "version": 3
   },
   "file_extension": ".py",
   "mimetype": "text/x-python",
   "name": "python",
   "nbconvert_exporter": "python",
   "pygments_lexer": "ipython3",
   "version": "3.7.3"
  }
 },
 "nbformat": 4,
 "nbformat_minor": 2
}
