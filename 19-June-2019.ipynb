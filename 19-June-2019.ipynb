{
 "cells": [
  {
   "cell_type": "markdown",
   "metadata": {},
   "source": [
    "# Basic Programming\n",
    "- Hello World\n",
    "- Two Strings\n",
    "- char sum\n",
    "- Recursive Sum\n",
    "- Profile picture"
   ]
  },
  {
   "cell_type": "code",
   "execution_count": 1,
   "metadata": {},
   "outputs": [
    {
     "name": "stdout",
     "output_type": "stream",
     "text": [
      "Hello Kirti\n"
     ]
    }
   ],
   "source": [
    "# Kirti is new to programming and she doesn't know how to code. Can you write a code, which would print \"Hello Kirti\" on the screen.\n",
    "\n",
    "print('Hello Kirti')"
   ]
  },
  {
   "cell_type": "markdown",
   "metadata": {},
   "source": [
    "# Given two strings of equal length, you have to tell whether they both strings are identical.\n",
    "\n",
    "Two strings S1 and S2 are said to be identical, if any of the permutation of string S1 is equal to the string S2. See Sample explanation for more details.\n",
    "\n",
    "Input :\n",
    "\n",
    "First line, contains an intger 'T' denoting no. of test cases.\n",
    "Each test consists of a single line, containing two space separated strings S1 and S2 of equal length.\n",
    "Output:\n",
    "\n",
    "For each test case, if any of the permutation of string S1 is equal to the string S2 print YES else print NO.\n",
    "Constraints:\n",
    "\n",
    "1<= T <=100\n",
    "1<= |S1| = |S2| <= 10^5\n",
    "String is made up of lower case letters only.\n",
    "Note : Use Hashing Concept Only . Try to do it in O(string length) .\n",
    "\n",
    "SAMPLE INPUT \n",
    "3\n",
    "sumit mitsu\n",
    "ambuj jumba\n",
    "abhi hibb\n",
    "SAMPLE OUTPUT \n",
    "YES\n",
    "YES\n",
    "NO"
   ]
  },
  {
   "cell_type": "code",
   "execution_count": 3,
   "metadata": {},
   "outputs": [
    {
     "name": "stdout",
     "output_type": "stream",
     "text": [
      "3\n",
      "sumit mitsu\n",
      "YES\n",
      "ambuj jumba\n",
      "YES\n",
      "abhi hibb\n",
      "NO\n"
     ]
    }
   ],
   "source": [
    "def string():\n",
    "    t=int(input())\n",
    "    for i in range(t):\n",
    "        m=input()\n",
    "        n=1\n",
    "        x,y=m.split()\n",
    "        \n",
    "        for j in x:\n",
    "            if x.count(j)!=y.count(j):\n",
    "                n=0\n",
    "                break\n",
    "        if n==1:\n",
    "            print(\"YES\")\n",
    "        elif n==0:\n",
    "            print(\"NO\")\n",
    "string()\n",
    "    "
   ]
  },
  {
   "cell_type": "markdown",
   "metadata": {},
   "source": [
    "# You have been given an array A of size N consisting of positive integers. You need to find and print the product of all the number in this array Modulo.\n",
    "\n",
    "Input Format:\n",
    "The first line contains a single integer N denoting the size of the array. The next line contains N space separated integers denoting the elements of the array\n"
   ]
  },
  {
   "cell_type": "code",
   "execution_count": 2,
   "metadata": {},
   "outputs": [
    {
     "name": "stdout",
     "output_type": "stream",
     "text": [
      "5\n",
      "1 2 3 4 5\n",
      "120\n"
     ]
    }
   ],
   "source": [
    "def product(n,s):\n",
    "    a=1\n",
    "    for i in range(n):\n",
    "        a=(a*int(s[i]))%((10**9)+7)\n",
    "    print(a)\n",
    "    return\n",
    "n=int(input())\n",
    "s=input().split()\n",
    "product(n,s)        \n",
    "            "
   ]
  },
  {
   "cell_type": "markdown",
   "metadata": {},
   "source": [
    "#Roy wants to change his profile picture on Facebook. Now Facebook has some restriction over the dimension of picture that we can upload.\n",
    "Minimum dimension of the picture can be L x L, where L is the length of the side of square.\n",
    "\n",
    "Now Roy has N photos of various dimensions.\n",
    "Dimension of a photo is denoted as W x H \n",
    "where W - width of the photo and H - Height of the photo\n",
    "\n",
    "When any photo is uploaded following events may occur:\n",
    "\n",
    "[1] If any of the width or height is less than L, user is prompted to upload another one. Print \"UPLOAD ANOTHER\" in this case.\n",
    "[2] If width and height, both are large enough and \n",
    "(a) if the photo is already square then it is accepted. Print \"ACCEPTED\" in this case.\n",
    "(b) else user is prompted to crop it. Print \"CROP IT\" in this case.\n",
    "\n",
    "(quotes are only for clarification)\n",
    "\n",
    "Given L, N, W and H as input, print appropriate text as output.\n",
    "\n",
    "Input:\n",
    "First line contains L.\n",
    "Second line contains N, number of photos.\n",
    "Following N lines each contains two space separated integers W and H.\n",
    "\n",
    "Output:\n",
    "Print appropriate text for each photo in a new line.\n",
    "\n",
    "Constraints:\n",
    "1 <= L,W,H <= 10000\n",
    "1 <= N <= 1000\n",
    "\n",
    "SAMPLE INPUT \n",
    "180\n",
    "3\n",
    "640 480\n",
    "120 300\n",
    "180 180\n",
    "SAMPLE OUTPUT \n",
    "CROP IT\n",
    "UPLOAD ANOTHER\n",
    "ACCEPTED"
   ]
  },
  {
   "cell_type": "code",
   "execution_count": 6,
   "metadata": {},
   "outputs": [
    {
     "name": "stdout",
     "output_type": "stream",
     "text": [
      "180\n",
      "3\n",
      "640 480\n",
      "CROP IT\n",
      "120 300\n",
      "UPLOAD ANOTHER\n",
      "180 180\n",
      "ACCEPTED\n"
     ]
    }
   ],
   "source": [
    "def profilepicture(length,width,height):\n",
    "    if(width<length or height<length):\n",
    "        print(\"UPLOAD ANOTHER\")\n",
    "    elif(width==height):\n",
    "        print(\"ACCEPTED\")\n",
    "    else:\n",
    "        print(\"CROP IT\")\n",
    "    return \n",
    "    \n",
    " \n",
    " \n",
    "length=int(input())\n",
    "n=int(input())\n",
    "for i in range(n):\n",
    "    s=input().split()\n",
    "    width=int(s[0])\n",
    "    height=int(s[1])\n",
    "    profilepicture(length,width,height)\n",
    "    "
   ]
  },
  {
   "cell_type": "markdown",
   "metadata": {},
   "source": [
    "Little Bear has received a home assignment to find the sum of all digits in a number N. Following his affinity towards single digit number, he intends to repeatedly compute the sum of all digits until the sum itself becomes a single digit number.\n",
    "\n",
    "Can you write a program to compute the final single-digit sum?\n",
    "\n",
    "As the number N is very big, it is given in the following run length encoded format - N is represented as a sequence of M blocks, where each block i (0 ≤ i < M) is represented by two integers - (len[i], d[i]). This implies that the digit d[i] occurs len[i] number of times.\n",
    "\n",
    "For example, {(2,1), (1,2), (2,9)} represents the number 11299.\n",
    "\n",
    "Input:\n",
    "The first line contains a single integer T, denoting the number of test cases.\n",
    "Each test case starts with a single integer M, which is the number of following run-length encoded blocks.\n",
    "Each of the next M lines contains two space separated integers: len[i] and d[i].\n",
    "\n",
    "Output:\n",
    "Print the single-digit sum for each of the T test cases in a new line.\n",
    "\n",
    "Constraints:\n",
    "0 ≤ d[i] ≤ 9\n",
    "1 ≤ len[i] ≤ 1015\n",
    "1 ≤ M ≤ 104\n",
    "1 ≤ T ≤ 10\n",
    "\n",
    "SAMPLE INPUT \n",
    "3\n",
    "3\n",
    "2 1\n",
    "1 2\n",
    "2 9\n",
    "1\n",
    "8 1\n",
    "3\n",
    "2 5\n",
    "1 4\n",
    "1 5\n",
    "\n",
    "SAMPLE OUTPUT \n",
    "4\n",
    "8\n",
    "1"
   ]
  },
  {
   "cell_type": "code",
   "execution_count": 7,
   "metadata": {},
   "outputs": [
    {
     "name": "stdout",
     "output_type": "stream",
     "text": [
      "3\n",
      "3\n",
      "2 1\n",
      "1 2\n",
      "2 9\n",
      "4\n",
      "1 \n",
      "8 1\n",
      "8\n",
      "3\n",
      "2 5\n",
      "1 4\n",
      "1 5\n",
      "1\n"
     ]
    }
   ],
   "source": [
    "def recursivesum():\n",
    "    test=int(input())\n",
    "    total=0\n",
    "    for j in range(test):\n",
    "        d= input().split()\n",
    "        a=int(d[0])\n",
    "        b=int(d[1])\n",
    "        total=total+a*b\n",
    "    if total<=9:\n",
    "        return total\n",
    "    else:\n",
    "        while total>9:\n",
    "            check=list(str(total))\n",
    "            check=[int(x) for x in check]\n",
    "            total=sum(check)\n",
    "        return total\n",
    "n=int(input())\n",
    "for a in range(n):\n",
    "    print(recursivesum())\n",
    "    "
   ]
  },
  {
   "cell_type": "markdown",
   "metadata": {},
   "source": [
    "# Char sum\n",
    "Consider All lowercase Alphabets of the English language. Here we consider each alphabet from a to z to have a certain weight. The weight of the alphabet a is considered to be 1, b to be 2, c to be 3 and so on until z has a weight of 26. In short, the weight of the alphabet a is 1, and the weight of all other alphabets is the weight of its previous alphabet + 1.\n",
    "\n",
    "Now, you have been given a String S consisting of lowercase English characters. You need to find the summation of weight of each character in this String.\n",
    "\n",
    "For example, Consider the String aba\n",
    "\n",
    "Here, the first character a has a weight of 1, the second character b has 2 and the third character a again has a weight of 1. So the summation here is equal to : 1+2+1=4\n",
    "\n",
    "Input Format:\n",
    "\n",
    "The first and only line of input contains the String S.\n",
    "\n",
    "Output Format:\n",
    "\n",
    "Print the required answer on a single line\n",
    "\n",
    "Constraints:\n",
    "\n",
    "1≤|S|≤100\n",
    "\n",
    "SAMPLE INPUT \n",
    "aba\n",
    "SAMPLE OUTPUT \n",
    "4"
   ]
  },
  {
   "cell_type": "code",
   "execution_count": 8,
   "metadata": {},
   "outputs": [
    {
     "name": "stdout",
     "output_type": "stream",
     "text": [
      "aba\n",
      "4\n"
     ]
    }
   ],
   "source": [
    "s=input()\n",
    "def charsum(s):\n",
    "    c=0\n",
    "    for i in s:\n",
    "        c+=ord(i)-96\n",
    "    print(c)\n",
    "charsum(s)"
   ]
  },
  {
   "cell_type": "code",
   "execution_count": 5,
   "metadata": {},
   "outputs": [
    {
     "name": "stdout",
     "output_type": "stream",
     "text": [
      "-1 0\n",
      "-2 0\n",
      "-1 0\n",
      "-1 -1\n",
      "-1 -2\n",
      "0 -2\n"
     ]
    }
   ],
   "source": [
    "def maze(n):\n",
    "    x=0\n",
    "    y=0\n",
    "    for i in n:\n",
    "        if i=='L':\n",
    "            x=x-1\n",
    "        if i=='R':\n",
    "            x=x+1\n",
    "        if i=='U':\n",
    "            y=y+1\n",
    "        if i=='D':\n",
    "            y=y-1\n",
    "        print(x,y)\n",
    "maze('LLRDDR')"
   ]
  },
  {
   "cell_type": "code",
   "execution_count": null,
   "metadata": {},
   "outputs": [
    {
     "name": "stdout",
     "output_type": "stream",
     "text": [
      "2\n",
      "8\n",
      "out of range\n",
      "B\n"
     ]
    }
   ],
   "source": [
    "\n",
    "def lift(n):\n",
    "    a=0\n",
    "    b=7\n",
    "    for i in range(n):\n",
    "        m=int(input())  # user standing position\n",
    "        c = abs(a-m)    # lift - user\n",
    "        d = abs(b-m)# lift - user\n",
    "        if i<=7:\n",
    "            print('out of range')\n",
    "        if (c <= d):\n",
    "            print(\"A\")\n",
    "            a=m\n",
    "        else:\n",
    "            print('B')\n",
    "            b=m\n",
    "    return\n",
    "n=int(input()) # test cases\n",
    "lift(n)"
   ]
  },
  {
   "cell_type": "code",
   "execution_count": null,
   "metadata": {},
   "outputs": [],
   "source": [
    "def seating(n):\n",
    "    for i in range(0,n+1):\n",
    "        seat=int(input())\n",
    "        m=seat-1//12\n",
    "        if seat%3==2:\n",
    "            a=\"MS\"\n",
    "        if seat%6<2:\n",
    "            a=\"WS\"\n",
    "        else:\n",
    "            a=\"AS\"\n",
    "        print(24*m+13-seat,a)\n",
    "    \n",
    "n=int(input())\n",
    "seating(n)"
   ]
  },
  {
   "cell_type": "code",
   "execution_count": 3,
   "metadata": {},
   "outputs": [
    {
     "name": "stdout",
     "output_type": "stream",
     "text": [
      "42\n"
     ]
    }
   ],
   "source": [
    "def life(n):\n",
    "    while True:\n",
    "        if n==42:\n",
    "            break\n",
    "        print(n)\n",
    "\n",
    "n=int(input())\n",
    "life(n)"
   ]
  },
  {
   "cell_type": "code",
   "execution_count": null,
   "metadata": {},
   "outputs": [],
   "source": []
  }
 ],
 "metadata": {
  "kernelspec": {
   "display_name": "Python 3",
   "language": "python",
   "name": "python3"
  },
  "language_info": {
   "codemirror_mode": {
    "name": "ipython",
    "version": 3
   },
   "file_extension": ".py",
   "mimetype": "text/x-python",
   "name": "python",
   "nbconvert_exporter": "python",
   "pygments_lexer": "ipython3",
   "version": "3.7.3"
  }
 },
 "nbformat": 4,
 "nbformat_minor": 2
}
