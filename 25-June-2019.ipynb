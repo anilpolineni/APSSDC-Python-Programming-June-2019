{
 "cells": [
  {
   "cell_type": "markdown",
   "metadata": {},
   "source": [
    "# Marks  Analysis Appliclation\n",
    "    #Generate marks file for n students\n",
    "    #Input:MArks text file -- each line contains marks of one student\n",
    "    #Generates a report with the following information\n",
    "        #Class Average\n",
    "        #% of Students Passwd\n",
    "        #% of Students failed\n",
    "        # % of students with distinction\n",
    "        # Heighest marks Frequency\n",
    "        #lowest mark Frequency\n",
    "        "
   ]
  },
  {
   "cell_type": "code",
   "execution_count": 1,
   "metadata": {},
   "outputs": [],
   "source": [
    "# Function to Generate marks data for n students\n",
    "from random import randint\n",
    "def generatemarks(n,lb,ub):\n",
    "    with open('DataFiles/marks.txt','w') as f:\n",
    "        for i in range(0,n):\n",
    "            r=randint(lb,ub)\n",
    "            f.write(str(r)+'\\n')\n",
    "        return\n",
    "generatemarks(1000,0,100)   "
   ]
  },
  {
   "cell_type": "code",
   "execution_count": null,
   "metadata": {},
   "outputs": [],
   "source": [
    "#def read(filename):\n",
    "#    with open(filename,'r')as f:\n",
    "#        filedata=f.read().split()\n",
    "#    return filedata\n",
    "#read(\"DataFiles/marks.txt\")"
   ]
  },
  {
   "cell_type": "code",
   "execution_count": 2,
   "metadata": {},
   "outputs": [
    {
     "name": "stdout",
     "output_type": "stream",
     "text": [
      "50.062\n"
     ]
    }
   ],
   "source": [
    "# Average MArks\n",
    "# sum of marks/student count\n",
    "def ClassAvg(filename):\n",
    "    sum=0\n",
    "    count=0\n",
    "    with open(filename,'r') as f:\n",
    "        for i in f:\n",
    "            sum+=int(i)\n",
    "            count+=1\n",
    "    print(sum/count)\n",
    "filename=\"DataFiles/marks.txt\"\n",
    "ClassAvg(filename)\n",
    "            "
   ]
  },
  {
   "cell_type": "code",
   "execution_count": 3,
   "metadata": {},
   "outputs": [
    {
     "name": "stdout",
     "output_type": "stream",
     "text": [
      "65.60000000000001\n"
     ]
    }
   ],
   "source": [
    "# passPercentage\n",
    "# (passed count/totalcount)*100\n",
    "def passpercentage(filepath):\n",
    "    mc=0\n",
    "    count=0\n",
    "    with open(filename,'r') as f:\n",
    "        for i in f:\n",
    "            mc=mc+1\n",
    "            if int(i)>=35:\n",
    "                count+=1\n",
    "    print((count/mc)*100)\n",
    "filepath=\"DataFiles/marks.txt\"\n",
    "passpercentage(filepath)"
   ]
  },
  {
   "cell_type": "code",
   "execution_count": 4,
   "metadata": {},
   "outputs": [
    {
     "name": "stdout",
     "output_type": "stream",
     "text": [
      "34.4\n"
     ]
    }
   ],
   "source": [
    "# FailedPercentage\n",
    "# (Failed count/totalcount)*100\n",
    "def FailedPercentage(filepath):\n",
    "    mc=0\n",
    "    count=0\n",
    "    with open(filename,'r') as f:\n",
    "        for i in f:\n",
    "            mc=mc+1\n",
    "            if int(i)<35:\n",
    "                count+=1\n",
    "    print((count/mc)*100)\n",
    "filepath=\"DataFiles/marks.txt\"\n",
    "FailedPercentage(filepath)"
   ]
  },
  {
   "cell_type": "code",
   "execution_count": 5,
   "metadata": {},
   "outputs": [
    {
     "name": "stdout",
     "output_type": "stream",
     "text": [
      "26.400000000000002\n"
     ]
    }
   ],
   "source": [
    "# Distinction\n",
    "# total distinction count/total syudent count*100\n",
    "def distinction(filepath):\n",
    "    with open(filename,'r') as f:\n",
    "        mc=0\n",
    "        count=0\n",
    "        for i in f:\n",
    "            mc+=1\n",
    "            if int(i)>=75:\n",
    "                count+=1\n",
    "    print((count/mc)*100)\n",
    "filepath=\"DataFiles/marks.txt\"\n",
    "distinction(filepath)"
   ]
  },
  {
   "cell_type": "code",
   "execution_count": 6,
   "metadata": {},
   "outputs": [
    {
     "name": "stdout",
     "output_type": "stream",
     "text": [
      "100\n"
     ]
    },
    {
     "data": {
      "text/plain": [
       "11"
      ]
     },
     "execution_count": 6,
     "metadata": {},
     "output_type": "execute_result"
    }
   ],
   "source": [
    "# Highest Marks-frequency highestcount(filepath)\n",
    "def heighestfrequency(filepath):\n",
    "    with open(filename,'r') as f:\n",
    "        s=f.read().split()\n",
    "        s=list(map(int,s))\n",
    "        print(max(s))\n",
    "    return s.count(max(s))\n",
    "filepath=\"DataFiles/marks.txt\"\n",
    "heighestfrequency(filepath)        "
   ]
  },
  {
   "cell_type": "code",
   "execution_count": 7,
   "metadata": {},
   "outputs": [
    {
     "name": "stdout",
     "output_type": "stream",
     "text": [
      "0\n"
     ]
    },
    {
     "data": {
      "text/plain": [
       "5"
      ]
     },
     "execution_count": 7,
     "metadata": {},
     "output_type": "execute_result"
    }
   ],
   "source": [
    "def lowestfrequency(filepath):\n",
    "    with open(filename,'r') as f:\n",
    "        s=f.read().split()\n",
    "        s=list(map(int,s))\n",
    "        print(min(s))\n",
    "    return s.count(min(s))\n",
    "filepath=\"DataFiles/marks.txt\"\n",
    "lowestfrequency(filepath)   "
   ]
  },
  {
   "cell_type": "code",
   "execution_count": 8,
   "metadata": {},
   "outputs": [
    {
     "name": "stdout",
     "output_type": "stream",
     "text": [
      "Choose Your Option:\n",
      "1).generatemarks\n",
      "2).passpercentage\n",
      "3).FailedPercentage\n",
      "4).distinction\n",
      "5.heighestfrequency\n",
      "6).lowestfrequency\n",
      "71\n",
      "enter no of student Marks:100\n",
      "Choose Your Option:\n",
      "1).generatemarks\n",
      "2).passpercentage\n",
      "3).FailedPercentage\n",
      "4).distinction\n",
      "5.heighestfrequency\n",
      "6).lowestfrequency\n",
      "72\n",
      "71.0\n",
      "None\n",
      "Choose Your Option:\n",
      "1).generatemarks\n",
      "2).passpercentage\n",
      "3).FailedPercentage\n",
      "4).distinction\n",
      "5.heighestfrequency\n",
      "6).lowestfrequency\n",
      "73\n",
      "28.999999999999996\n",
      "None\n",
      "Choose Your Option:\n",
      "1).generatemarks\n",
      "2).passpercentage\n",
      "3).FailedPercentage\n",
      "4).distinction\n",
      "5.heighestfrequency\n",
      "6).lowestfrequency\n",
      "74\n",
      "27.0\n",
      "None\n",
      "Choose Your Option:\n",
      "1).generatemarks\n",
      "2).passpercentage\n",
      "3).FailedPercentage\n",
      "4).distinction\n",
      "5.heighestfrequency\n",
      "6).lowestfrequency\n",
      "75\n",
      "100\n",
      "2\n",
      "Choose Your Option:\n",
      "1).generatemarks\n",
      "2).passpercentage\n",
      "3).FailedPercentage\n",
      "4).distinction\n",
      "5.heighestfrequency\n",
      "6).lowestfrequency\n",
      "76\n",
      "1\n",
      "2\n",
      "Choose Your Option:\n",
      "1).generatemarks\n",
      "2).passpercentage\n",
      "3).FailedPercentage\n",
      "4).distinction\n",
      "5.heighestfrequency\n",
      "6).lowestfrequency\n",
      "77\n"
     ]
    }
   ],
   "source": [
    "def MarksGenerate(filepath):\n",
    "    while True:\n",
    "        n=int(input('Choose Your Option:\\n1).generatemarks\\n2).passpercentage\\n3).FailedPercentage\\n4).distinction\\n5.heighestfrequency\\n6).lowestfrequency\\n7'))\n",
    "        if (n==1):\n",
    "            m=int(input('enter no of student Marks:'))\n",
    "            generatemarks(m,1,100)\n",
    "        elif (n==2):\n",
    "            print(passpercentage(filepath))\n",
    "        elif (n==3):\n",
    "            print(FailedPercentage(filepath))\n",
    "        elif (n==4):\n",
    "            print(distinction(filepath))\n",
    "        elif (n==5):\n",
    "            print(heighestfrequency(filepath))\n",
    "        elif (n==6):\n",
    "            print(lowestfrequency(filepath))\n",
    "        else:\n",
    "            break\n",
    "            \n",
    "filepath=\"DataFiles/marks.txt\"\n",
    "MarksGenerate(filepath)   \n",
    "\n",
    "   "
   ]
  },
  {
   "cell_type": "code",
   "execution_count": null,
   "metadata": {},
   "outputs": [],
   "source": []
  }
 ],
 "metadata": {
  "kernelspec": {
   "display_name": "Python 3",
   "language": "python",
   "name": "python3"
  },
  "language_info": {
   "codemirror_mode": {
    "name": "ipython",
    "version": 3
   },
   "file_extension": ".py",
   "mimetype": "text/x-python",
   "name": "python",
   "nbconvert_exporter": "python",
   "pygments_lexer": "ipython3",
   "version": "3.7.3"
  }
 },
 "nbformat": 4,
 "nbformat_minor": 2
}
