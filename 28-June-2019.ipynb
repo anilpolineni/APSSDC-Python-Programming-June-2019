{
 "cells": [
  {
   "cell_type": "markdown",
   "metadata": {},
   "source": [
    "# Day Objectives\n",
    "\n",
    "* Maps\n",
    "* Lambda\n",
    "* Filter\n",
    "* Use Cases-Files/Data Encryption\n"
   ]
  },
  {
   "cell_type": "markdown",
   "metadata": {},
   "source": [
    "# Map\n",
    "\n",
    "- MApping - Entity with Function\n",
    "f : x^2 + 3*x+9\n",
    "x:[1,10]\n",
    "f(x)\n",
    "f(1)-->13\n",
    "f(2--> 19\n",
    "\n",
    "\n",
    "map(function.Iterable)\n",
    "\n"
   ]
  },
  {
   "cell_type": "code",
   "execution_count": 3,
   "metadata": {},
   "outputs": [
    {
     "data": {
      "text/plain": [
       "1024"
      ]
     },
     "execution_count": 3,
     "metadata": {},
     "output_type": "execute_result"
    }
   ],
   "source": [
    "def powern(a,n):\n",
    "    #return a**n\n",
    "    r=1\n",
    "    for i in  range(n):\n",
    "        r*=a\n",
    "    return r\n",
    "powern(2,10)        "
   ]
  },
  {
   "cell_type": "code",
   "execution_count": 10,
   "metadata": {},
   "outputs": [
    {
     "data": {
      "text/plain": [
       "1024"
      ]
     },
     "execution_count": 10,
     "metadata": {},
     "output_type": "execute_result"
    }
   ],
   "source": [
    "def powern(a,n):\n",
    "    if n==0:\n",
    "        return 1\n",
    "    else:\n",
    "        return a* powern(a,n-1)\n",
    "powern(2,10)   "
   ]
  },
  {
   "cell_type": "code",
   "execution_count": 50,
   "metadata": {},
   "outputs": [
    {
     "data": {
      "text/plain": [
       "[1, 8, 27, 64, 125, 216]"
      ]
     },
     "execution_count": 50,
     "metadata": {},
     "output_type": "execute_result"
    }
   ],
   "source": [
    "def cube(n):\n",
    "    return n**3\n",
    "li=[1,2,3,4,5,6]\n",
    "li2=list(map(int,li))\n",
    "#list(map(int,li2))\n",
    "tuple(map(float,li2))\n",
    "#set(map(int,li2))\n",
    "numbers=[int(i) for i in li]\n",
    "[cube(i) for i in numbers ]"
   ]
  },
  {
   "cell_type": "markdown",
   "metadata": {},
   "source": [
    "# Filter\n",
    "\n",
    "used to check boolean values\n",
    "\n"
   ]
  },
  {
   "cell_type": "code",
   "execution_count": 25,
   "metadata": {},
   "outputs": [
    {
     "data": {
      "text/plain": [
       "['a', 'b', 'c']"
      ]
     },
     "execution_count": 25,
     "metadata": {},
     "output_type": "execute_result"
    }
   ],
   "source": [
    "li=[1,2,'a','b','c']\n",
    "def isDigit(c):\n",
    "    c=str(c)\n",
    "    if c.isdigit():\n",
    "        return 0\n",
    "    return 1\n",
    "isDigit('b')\n",
    "list(filter(isDigit,li))"
   ]
  },
  {
   "cell_type": "code",
   "execution_count": 44,
   "metadata": {},
   "outputs": [
    {
     "data": {
      "text/plain": [
       "[2, 3, 5, 7, 11, 13, 17, 19, 23, 29, 31, 37, 41, 43, 47]"
      ]
     },
     "execution_count": 44,
     "metadata": {},
     "output_type": "execute_result"
    }
   ],
   "source": [
    "# filter all primes in a given range\n",
    "def primenumbers(a):\n",
    "    if a<2:\n",
    "        return False\n",
    "    for i in range(2,a//2+1):\n",
    "            if (a%i== 0):\n",
    "                return False\n",
    "    return True\n",
    "lb,ub=2,50\n",
    "primelist=list(filter(primenumbers,range(lb,ub+1)))\n",
    "primelist"
   ]
  },
  {
   "cell_type": "code",
   "execution_count": 46,
   "metadata": {},
   "outputs": [
    {
     "data": {
      "text/plain": [
       "[2, 3, 5, 7, 11, 13, 17, 19, 23, 29, 31, 37, 41, 43, 47]"
      ]
     },
     "execution_count": 46,
     "metadata": {},
     "output_type": "execute_result"
    }
   ],
   "source": [
    "primelist2=[i for i in range(lb,ub+1) if primenumbers(i)]\n",
    "primelist2"
   ]
  },
  {
   "cell_type": "markdown",
   "metadata": {},
   "source": [
    "# Lambda\n",
    "\n",
    "Ananymous Functions\n",
    "\n",
    "can be embedded into list comprehensions,Maps,Filters"
   ]
  },
  {
   "cell_type": "code",
   "execution_count": 6,
   "metadata": {},
   "outputs": [
    {
     "data": {
      "text/plain": [
       "[2, 4, 6, 8]"
      ]
     },
     "execution_count": 6,
     "metadata": {},
     "output_type": "execute_result"
    }
   ],
   "source": [
    "a=lambda x: x **3\n",
    "#a(5)\n",
    "list(map(lambda x:x**3,[1,2,3,4,5,6,7,8,9,10,11,1]))\n",
    "list(filter(lambda x : x % 2 ==0,[1,2,3,4,5,6,7,8,9]))"
   ]
  },
  {
   "cell_type": "code",
   "execution_count": 8,
   "metadata": {},
   "outputs": [
    {
     "data": {
      "text/plain": [
       "[13.0, 12.0, 11.0, 12.0]"
      ]
     },
     "execution_count": 8,
     "metadata": {},
     "output_type": "execute_result"
    }
   ],
   "source": [
    "from random import randint\n",
    "\n",
    "Internal1=[randint(0,25) for i in range(10)]\n",
    "Internal2=[randint(0,25) for i in range(10)]\n",
    "Averageinternalmarks=list(map(lambda x,y: (x+y)/2,Internal1,Internal2))\n",
    "FailedMarks=list(filter(lambda x: x<10,Averageinternalmarks))\n",
    "PassedMarks=list(filter(lambda x:x>10,Averageinternalmarks))\n",
    "\n",
    "#Averageinternalmarks\n",
    "#FailedMarks\n",
    "PassedMarks"
   ]
  },
  {
   "cell_type": "markdown",
   "metadata": {},
   "source": [
    "# Applying Functional Programming to the Marks Appliclation"
   ]
  },
  {
   "cell_type": "code",
   "execution_count": 12,
   "metadata": {},
   "outputs": [],
   "source": [
    "# Genearte MarksData\n",
    "from random import randint\n",
    "def generatemarks(n,lb,ub):\n",
    "    filename='DataFiles/marks.txt'\n",
    "    with open(filename,'w')as f:\n",
    "        for i in range(n):\n",
    "            marks=randint(lb,ub)\n",
    "            f.write(str(marks)+'\\n')\n",
    "    return\n",
    "generatemarks(500,0,100)\n",
    "    \n",
    "    "
   ]
  },
  {
   "cell_type": "code",
   "execution_count": 17,
   "metadata": {},
   "outputs": [
    {
     "data": {
      "text/plain": [
       "48"
      ]
     },
     "execution_count": 17,
     "metadata": {},
     "output_type": "execute_result"
    }
   ],
   "source": [
    "# Marks Analysis\n",
    "# Class Average\n",
    "#% of passed,failed and distinction\n",
    "#Frequency of highest anf lowestmarks\n",
    "import re\n",
    "def ClassAverage(filepath):\n",
    "    with open(filepath,'r')as f:\n",
    "        filedata=f.read().split()\n",
    "        #markslist=re.split('\\n',filedata)\n",
    "    markslist=list(map(int,filedata))\n",
    "    return sum(markslist)//len(markslist)\n",
    "filepath='DataFiles/marks.txt'\n",
    "ClassAverage(filepath)"
   ]
  },
  {
   "cell_type": "code",
   "execution_count": 20,
   "metadata": {},
   "outputs": [
    {
     "data": {
      "text/plain": [
       "[38,\n",
       " 87,\n",
       " 22,\n",
       " 21,\n",
       " 76,\n",
       " 53,\n",
       " 0,\n",
       " 12,\n",
       " 0,\n",
       " 80,\n",
       " 92,\n",
       " 84,\n",
       " 54,\n",
       " 33,\n",
       " 7,\n",
       " 52,\n",
       " 81,\n",
       " 16,\n",
       " 8,\n",
       " 83,\n",
       " 23,\n",
       " 26,\n",
       " 4,\n",
       " 64,\n",
       " 69,\n",
       " 95,\n",
       " 50,\n",
       " 74,\n",
       " 77,\n",
       " 84,\n",
       " 79,\n",
       " 60,\n",
       " 34,\n",
       " 87,\n",
       " 4,\n",
       " 42,\n",
       " 91,\n",
       " 50,\n",
       " 33,\n",
       " 1,\n",
       " 29,\n",
       " 49,\n",
       " 19,\n",
       " 5,\n",
       " 42,\n",
       " 35,\n",
       " 96,\n",
       " 46,\n",
       " 22,\n",
       " 20,\n",
       " 22,\n",
       " 24,\n",
       " 97,\n",
       " 70,\n",
       " 85,\n",
       " 33,\n",
       " 49,\n",
       " 85,\n",
       " 13,\n",
       " 11,\n",
       " 94,\n",
       " 84,\n",
       " 71,\n",
       " 69,\n",
       " 79,\n",
       " 95,\n",
       " 84,\n",
       " 20,\n",
       " 28,\n",
       " 88,\n",
       " 47,\n",
       " 26,\n",
       " 5,\n",
       " 13,\n",
       " 38,\n",
       " 20,\n",
       " 41,\n",
       " 61,\n",
       " 23,\n",
       " 82,\n",
       " 12,\n",
       " 32,\n",
       " 35,\n",
       " 82,\n",
       " 50,\n",
       " 1,\n",
       " 8,\n",
       " 14,\n",
       " 8,\n",
       " 11,\n",
       " 0,\n",
       " 90,\n",
       " 69,\n",
       " 57,\n",
       " 37,\n",
       " 79,\n",
       " 73,\n",
       " 13,\n",
       " 66,\n",
       " 46,\n",
       " 30,\n",
       " 73,\n",
       " 18,\n",
       " 32,\n",
       " 11,\n",
       " 61,\n",
       " 33,\n",
       " 23,\n",
       " 85,\n",
       " 88,\n",
       " 68,\n",
       " 100,\n",
       " 61,\n",
       " 92,\n",
       " 99,\n",
       " 61,\n",
       " 88,\n",
       " 5,\n",
       " 22,\n",
       " 32,\n",
       " 6,\n",
       " 93,\n",
       " 56,\n",
       " 7,\n",
       " 92,\n",
       " 50,\n",
       " 74,\n",
       " 0,\n",
       " 12,\n",
       " 92,\n",
       " 84,\n",
       " 21,\n",
       " 77,\n",
       " 6,\n",
       " 44,\n",
       " 80,\n",
       " 12,\n",
       " 36,\n",
       " 91,\n",
       " 73,\n",
       " 59,\n",
       " 29,\n",
       " 9,\n",
       " 38,\n",
       " 67,\n",
       " 11,\n",
       " 6,\n",
       " 93,\n",
       " 78,\n",
       " 19,\n",
       " 49,\n",
       " 90,\n",
       " 38,\n",
       " 55,\n",
       " 93,\n",
       " 12,\n",
       " 92,\n",
       " 39,\n",
       " 81,\n",
       " 66,\n",
       " 0,\n",
       " 23,\n",
       " 32,\n",
       " 84,\n",
       " 12,\n",
       " 57,\n",
       " 35,\n",
       " 40,\n",
       " 40,\n",
       " 34,\n",
       " 73,\n",
       " 24,\n",
       " 17,\n",
       " 6,\n",
       " 63,\n",
       " 7,\n",
       " 90,\n",
       " 55,\n",
       " 68,\n",
       " 94,\n",
       " 81,\n",
       " 54,\n",
       " 68,\n",
       " 21,\n",
       " 66,\n",
       " 35,\n",
       " 73,\n",
       " 64,\n",
       " 71,\n",
       " 23,\n",
       " 2,\n",
       " 90,\n",
       " 45,\n",
       " 54,\n",
       " 94,\n",
       " 88,\n",
       " 55,\n",
       " 30,\n",
       " 52,\n",
       " 87,\n",
       " 51,\n",
       " 31,\n",
       " 17,\n",
       " 63,\n",
       " 15,\n",
       " 3,\n",
       " 3,\n",
       " 59,\n",
       " 13,\n",
       " 28,\n",
       " 20,\n",
       " 88,\n",
       " 24,\n",
       " 1,\n",
       " 57,\n",
       " 15,\n",
       " 84,\n",
       " 24,\n",
       " 78,\n",
       " 13,\n",
       " 36,\n",
       " 6,\n",
       " 44,\n",
       " 45,\n",
       " 15,\n",
       " 34,\n",
       " 43,\n",
       " 72,\n",
       " 9,\n",
       " 98,\n",
       " 68,\n",
       " 20,\n",
       " 4,\n",
       " 96,\n",
       " 73,\n",
       " 20,\n",
       " 66,\n",
       " 37,\n",
       " 2,\n",
       " 69,\n",
       " 9,\n",
       " 29,\n",
       " 54,\n",
       " 93,\n",
       " 90,\n",
       " 22,\n",
       " 47,\n",
       " 27,\n",
       " 74,\n",
       " 32,\n",
       " 39,\n",
       " 79,\n",
       " 22,\n",
       " 23,\n",
       " 16,\n",
       " 47,\n",
       " 33,\n",
       " 74,\n",
       " 86,\n",
       " 24,\n",
       " 16,\n",
       " 11,\n",
       " 30,\n",
       " 80,\n",
       " 63,\n",
       " 23,\n",
       " 57,\n",
       " 75,\n",
       " 26,\n",
       " 14,\n",
       " 62,\n",
       " 22,\n",
       " 74,\n",
       " 72,\n",
       " 46,\n",
       " 16,\n",
       " 43,\n",
       " 1,\n",
       " 40,\n",
       " 90,\n",
       " 38,\n",
       " 9,\n",
       " 84,\n",
       " 80,\n",
       " 18,\n",
       " 26,\n",
       " 42,\n",
       " 77,\n",
       " 36,\n",
       " 100,\n",
       " 94,\n",
       " 80,\n",
       " 61,\n",
       " 13,\n",
       " 3,\n",
       " 81,\n",
       " 100,\n",
       " 66,\n",
       " 3,\n",
       " 83,\n",
       " 73,\n",
       " 85,\n",
       " 11,\n",
       " 38,\n",
       " 43,\n",
       " 75,\n",
       " 57,\n",
       " 91,\n",
       " 25,\n",
       " 13,\n",
       " 66,\n",
       " 5,\n",
       " 22,\n",
       " 75,\n",
       " 71,\n",
       " 9,\n",
       " 0,\n",
       " 90,\n",
       " 77,\n",
       " 84,\n",
       " 94,\n",
       " 80,\n",
       " 62,\n",
       " 14,\n",
       " 18,\n",
       " 27,\n",
       " 8,\n",
       " 28,\n",
       " 94,\n",
       " 45,\n",
       " 60,\n",
       " 48,\n",
       " 34,\n",
       " 95,\n",
       " 47,\n",
       " 89,\n",
       " 10,\n",
       " 5,\n",
       " 8,\n",
       " 6,\n",
       " 39,\n",
       " 99,\n",
       " 42,\n",
       " 48,\n",
       " 20,\n",
       " 41,\n",
       " 45,\n",
       " 45,\n",
       " 19,\n",
       " 88,\n",
       " 100,\n",
       " 73,\n",
       " 29,\n",
       " 74,\n",
       " 55,\n",
       " 94,\n",
       " 12,\n",
       " 51,\n",
       " 28,\n",
       " 69,\n",
       " 37,\n",
       " 91,\n",
       " 74,\n",
       " 71,\n",
       " 20,\n",
       " 95,\n",
       " 79,\n",
       " 51,\n",
       " 62,\n",
       " 71,\n",
       " 32,\n",
       " 19,\n",
       " 47,\n",
       " 58,\n",
       " 57,\n",
       " 66,\n",
       " 88,\n",
       " 17,\n",
       " 50,\n",
       " 65,\n",
       " 9,\n",
       " 64,\n",
       " 96,\n",
       " 79,\n",
       " 93,\n",
       " 14,\n",
       " 57,\n",
       " 24,\n",
       " 78,\n",
       " 83,\n",
       " 52,\n",
       " 87,\n",
       " 49,\n",
       " 88,\n",
       " 10,\n",
       " 60,\n",
       " 58,\n",
       " 6,\n",
       " 74,\n",
       " 44,\n",
       " 46,\n",
       " 17,\n",
       " 70,\n",
       " 87,\n",
       " 75,\n",
       " 81,\n",
       " 90,\n",
       " 39,\n",
       " 52,\n",
       " 78,\n",
       " 85,\n",
       " 25,\n",
       " 11,\n",
       " 60,\n",
       " 63,\n",
       " 51,\n",
       " 69,\n",
       " 79,\n",
       " 20,\n",
       " 8,\n",
       " 87,\n",
       " 66,\n",
       " 96,\n",
       " 1,\n",
       " 2,\n",
       " 25,\n",
       " 92,\n",
       " 4,\n",
       " 51,\n",
       " 77,\n",
       " 39,\n",
       " 9,\n",
       " 11,\n",
       " 85,\n",
       " 38,\n",
       " 5,\n",
       " 44,\n",
       " 36,\n",
       " 67,\n",
       " 38,\n",
       " 25,\n",
       " 23,\n",
       " 27,\n",
       " 36,\n",
       " 52,\n",
       " 100,\n",
       " 100,\n",
       " 48,\n",
       " 50,\n",
       " 65,\n",
       " 18,\n",
       " 81,\n",
       " 0,\n",
       " 2,\n",
       " 98,\n",
       " 28,\n",
       " 94,\n",
       " 41,\n",
       " 88,\n",
       " 51,\n",
       " 5,\n",
       " 77,\n",
       " 72,\n",
       " 51,\n",
       " 43,\n",
       " 35,\n",
       " 93,\n",
       " 22,\n",
       " 14,\n",
       " 79,\n",
       " 1,\n",
       " 27,\n",
       " 43,\n",
       " 23,\n",
       " 29,\n",
       " 44,\n",
       " 69,\n",
       " 73,\n",
       " 71,\n",
       " 90,\n",
       " 44,\n",
       " 64,\n",
       " 50,\n",
       " 59,\n",
       " 90,\n",
       " 96,\n",
       " 93,\n",
       " 49,\n",
       " 37,\n",
       " 5,\n",
       " 86,\n",
       " 24,\n",
       " 61,\n",
       " 70,\n",
       " 60,\n",
       " 50,\n",
       " 6,\n",
       " 77,\n",
       " 35,\n",
       " 1]"
      ]
     },
     "execution_count": 20,
     "metadata": {},
     "output_type": "execute_result"
    }
   ],
   "source": [
    "(filepath):\n",
    "    with open(filepath,'r') as f:\n",
    "        filedata=f.read().split()\n",
    "    return list(map(int,filedata))\n",
    "filepath='DataFiles/marks.txt'\n",
    "readmarklist(filepath)"
   ]
  },
  {
   "cell_type": "code",
   "execution_count": 28,
   "metadata": {},
   "outputs": [
    {
     "data": {
      "text/plain": [
       "42.4"
      ]
     },
     "execution_count": 28,
     "metadata": {},
     "output_type": "execute_result"
    }
   ],
   "source": [
    "def percentagefailed(filepath):\n",
    "    markslist=readmarklist(filepath)\n",
    "    failedcount=len(list(filter(lambda mark: mark<40,markslist)))\n",
    "    return (failedcount/len(markslist))*100\n",
    "filepath='DataFiles/marks.txt'\n",
    "percentagefailed(filepath)"
   ]
  },
  {
   "cell_type": "code",
   "execution_count": 30,
   "metadata": {},
   "outputs": [
    {
     "data": {
      "text/plain": [
       "57.6"
      ]
     },
     "execution_count": 30,
     "metadata": {},
     "output_type": "execute_result"
    }
   ],
   "source": [
    "def percentagepassed(filepath):\n",
    "    return 100-percentagefailed(filepath)\n",
    "filepath='DataFiles/marks.txt'\n",
    "percentagepassed(filepath)"
   ]
  },
  {
   "cell_type": "code",
   "execution_count": 31,
   "metadata": {},
   "outputs": [
    {
     "data": {
      "text/plain": [
       "31.0"
      ]
     },
     "execution_count": 31,
     "metadata": {},
     "output_type": "execute_result"
    }
   ],
   "source": [
    "def percentagedistinction(filepath):\n",
    "    markslist=readmarklist(filepath)\n",
    "    failedcount=len(list(filter(lambda mark: mark>70,markslist)))\n",
    "    return (failedcount/len(markslist))*100\n",
    "filepath='DataFiles/marks.txt'\n",
    "percentagedistinction(filepath)"
   ]
  },
  {
   "cell_type": "code",
   "execution_count": 33,
   "metadata": {},
   "outputs": [
    {
     "data": {
      "text/plain": [
       "6"
      ]
     },
     "execution_count": 33,
     "metadata": {},
     "output_type": "execute_result"
    }
   ],
   "source": [
    "def highestmarksfrequency(filepath):\n",
    "    markslist=readmarklist(filepath)\n",
    "    return markslist.count(max(markslist))\n",
    "highestmarksfrequency(filepath)"
   ]
  },
  {
   "cell_type": "code",
   "execution_count": 34,
   "metadata": {},
   "outputs": [
    {
     "data": {
      "text/plain": [
       "7"
      ]
     },
     "execution_count": 34,
     "metadata": {},
     "output_type": "execute_result"
    }
   ],
   "source": [
    "def lowestmarksfrequency(filepath):\n",
    "    markslist=readmarklist(filepath)\n",
    "    return markslist.count(min(markslist))\n",
    "lowestmarksfrequency(filepath)"
   ]
  },
  {
   "cell_type": "markdown",
   "metadata": {},
   "source": [
    "# Data Encryption\n",
    "\n",
    "* key - Mapping of characters with replaced \n",
    "0 ->4 \n",
    "1 ->6\n",
    "2 ->8\n",
    "3 ->3\n",
    "4 ->9\n",
    "5 ->1\n",
    "6 ->0\n",
    "7 ->2\n",
    "8 ->7\n",
    "9 ->5"
   ]
  },
  {
   "cell_type": "code",
   "execution_count": 37,
   "metadata": {},
   "outputs": [],
   "source": [
    "# Generate Key for encryption\n",
    "\n",
    "def generatekey(keypath):\n",
    "    with open(keypath,'w')as f:\n",
    "        for i in range(10):\n",
    "            if i<6:\n",
    "                f.write(str(i)+ ' '+str(i+4)+'\\n') # %10\n",
    "            else:\n",
    "                f.write(str(i)+' '+str(i-6)+'\\n')\n",
    "    return\n",
    "keypath='DataFiles/keypath.txt'\n",
    "generatekey(keypath)"
   ]
  },
  {
   "cell_type": "code",
   "execution_count": 43,
   "metadata": {},
   "outputs": [
    {
     "data": {
      "text/plain": [
       "{'0': '4',\n",
       " '1': '5',\n",
       " '2': '6',\n",
       " '3': '7',\n",
       " '4': '8',\n",
       " '5': '9',\n",
       " '6': '0',\n",
       " '7': '1',\n",
       " '8': '2',\n",
       " '9': '3'}"
      ]
     },
     "execution_count": 43,
     "metadata": {},
     "output_type": "execute_result"
    }
   ],
   "source": [
    "# Function to Encrypt to data file\n",
    "keyfile='DataFiles/keypath.txt'\n",
    "def dictionarykeyfile(keyfile):\n",
    "    key={}\n",
    "    with open(keyfile,'r') as f:\n",
    "        for line in f:\n",
    "            line=line.split()\n",
    "            key[line[0]]=line[1]\n",
    "    return key\n",
    "dictionarykeyfile(keyfile)\n",
    "# def encryptmarksdata(datafile,keyfile):\n",
    "#     # construct a dictionary for key data \n",
    "    "
   ]
  },
  {
   "cell_type": "code",
   "execution_count": null,
   "metadata": {},
   "outputs": [],
   "source": []
  },
  {
   "cell_type": "code",
   "execution_count": null,
   "metadata": {},
   "outputs": [],
   "source": []
  },
  {
   "cell_type": "code",
   "execution_count": null,
   "metadata": {},
   "outputs": [],
   "source": []
  }
 ],
 "metadata": {
  "kernelspec": {
   "display_name": "Python 3",
   "language": "python",
   "name": "python3"
  },
  "language_info": {
   "codemirror_mode": {
    "name": "ipython",
    "version": 3
   },
   "file_extension": ".py",
   "mimetype": "text/x-python",
   "name": "python",
   "nbconvert_exporter": "python",
   "pygments_lexer": "ipython3",
   "version": "3.7.3"
  }
 },
 "nbformat": 4,
 "nbformat_minor": 2
}
