{
 "cells": [
  {
   "cell_type": "code",
   "execution_count": 10,
   "metadata": {},
   "outputs": [
    {
     "data": {
      "text/plain": [
       "[1]"
      ]
     },
     "execution_count": 10,
     "metadata": {},
     "output_type": "execute_result"
    }
   ],
   "source": [
    "# Read a File -File should exist\n",
    "# write to a file -existing(append) or new file\n",
    "def readfile(filepath):\n",
    "with open(filepath,'r') as f:\n",
    "filedata = f.read() # the entire file data into a string\n",
    "return filedata\n",
    "filepath = 'datafiles/data.txt'\n",
    "print(readfile(filepath))"
   ]
  },
  {
   "cell_type": "code",
   "execution_count": 4,
   "metadata": {},
   "outputs": [
    {
     "ename": "NameError",
     "evalue": "name 'readfile' is not defined",
     "output_type": "error",
     "traceback": [
      "\u001b[1;31m---------------------------------------------------------------------------\u001b[0m",
      "\u001b[1;31mNameError\u001b[0m                                 Traceback (most recent call last)",
      "\u001b[1;32m<ipython-input-4-d0d7adb75d56>\u001b[0m in \u001b[0;36m<module>\u001b[1;34m\u001b[0m\n\u001b[0;32m      6\u001b[0m \u001b[0mfilename\u001b[0m \u001b[1;33m=\u001b[0m \u001b[1;34m'datafiles/data.txt'\u001b[0m\u001b[1;33m\u001b[0m\u001b[1;33m\u001b[0m\u001b[0m\n\u001b[0;32m      7\u001b[0m \u001b[0mwriteFile\u001b[0m\u001b[1;33m(\u001b[0m\u001b[0mfilename\u001b[0m\u001b[1;33m,\u001b[0m\u001b[1;34m\"new data\"\u001b[0m\u001b[1;33m)\u001b[0m\u001b[1;33m\u001b[0m\u001b[1;33m\u001b[0m\u001b[0m\n\u001b[1;32m----> 8\u001b[1;33m \u001b[0mprint\u001b[0m\u001b[1;33m(\u001b[0m\u001b[0mreadfile\u001b[0m\u001b[1;33m(\u001b[0m\u001b[0mfilename\u001b[0m\u001b[1;33m)\u001b[0m\u001b[1;33m)\u001b[0m\u001b[1;33m\u001b[0m\u001b[1;33m\u001b[0m\u001b[0m\n\u001b[0m",
      "\u001b[1;31mNameError\u001b[0m: name 'readfile' is not defined"
     ]
    }
   ],
   "source": [
    "# write a file should be exists\n",
    "def writeFile(filename,filedata):\n",
    "    with open(filename,'a') as f:\n",
    "        f.write(filedata)\n",
    "        return\n",
    "filename = 'datafiles/data.txt'\n",
    "writeFile(filename,\"new data\")\n",
    "print(readfile(filename))"
   ]
  },
  {
   "cell_type": "code",
   "execution_count": 2,
   "metadata": {},
   "outputs": [
    {
     "name": "stdout",
     "output_type": "stream",
     "text": [
      "58\n"
     ]
    }
   ],
   "source": [
    "# character count in file\n",
    "def countchar(filename):\n",
    "    with open(filename,'r') as f:\n",
    "        print(len(f.read()))\n",
    "countchar('datafiles/data.txt')"
   ]
  },
  {
   "cell_type": "code",
   "execution_count": null,
   "metadata": {},
   "outputs": [],
   "source": [
    "# linescount in file\n",
    "def linecount(filename):\n",
    "with open(filename,'r') as f:\n",
    "count=len(f.readlines())\n",
    "print(count)\n",
    "linecount('datafiles/data.txt')"
   ]
  },
  {
   "cell_type": "code",
   "execution_count": null,
   "metadata": {},
   "outputs": [],
   "source": [
    "# word count in file\n",
    "def countword(filename):\n",
    "with open(filename,'r') as f:\n",
    "filedata=f.read().split()\n",
    "print(len(filedata))\n",
    "countword('datafiles/data.txt')"
   ]
  },
  {
   "cell_type": "code",
   "execution_count": 16,
   "metadata": {},
   "outputs": [
    {
     "data": {
      "text/plain": [
       "[1]"
      ]
     },
     "execution_count": 16,
     "metadata": {},
     "output_type": "execute_result"
    }
   ],
   "source": [
    "def uniquedata(li):\n",
    "    unique = []\n",
    "    for element in li:\n",
    "        if element not in unique:\n",
    "            unique.append(element)\n",
    "            return unique\n",
    "li = [1,2,3,3,2,1]\n",
    "uniquedata(li)"
   ]
  },
  {
   "cell_type": "code",
   "execution_count": 12,
   "metadata": {},
   "outputs": [
    {
     "name": "stdout",
     "output_type": "stream",
     "text": [
      "['Hello'] Length Is: 1\n",
      "['Hello', 'Good'] Length Is: 2\n",
      "['Hello', 'Good', 'Eveningwelcome'] Length Is: 3\n",
      "['Hello', 'Good', 'Eveningwelcome', 'iitcollege'] Length Is: 4\n",
      "['Hello', 'Good', 'Eveningwelcome', 'iitcollege', 'welcome'] Length Is: 5\n",
      "['Hello', 'Good', 'Eveningwelcome', 'iitcollege', 'welcome', 'To'] Length Is: 6\n"
     ]
    }
   ],
   "source": [
    "def uniquewordcount(filename):\n",
    "    count=0\n",
    "    with open(filename,'r') as f:\n",
    "        filedata=f.read().split()\n",
    "        ls = []\n",
    "        for i in filedata:\n",
    "            if i not in ls:\n",
    "                ls.append(i)\n",
    "                print(ls,\"Length Is:\",len(ls))\n",
    "uniquewordcount('datafiles/data.txt')"
   ]
  },
  {
   "cell_type": "code",
   "execution_count": 8,
   "metadata": {},
   "outputs": [
    {
     "name": "stdout",
     "output_type": "stream",
     "text": [
      "58 bytes\n"
     ]
    }
   ],
   "source": [
    "# the length of filesize\n",
    "def filsize(filename):\n",
    "    with open(filename,'r') as f:\n",
    "        print(len(f.read()),\"bytes\")\n",
    "filsize('DataFiles/data.txt')"
   ]
  },
  {
   "cell_type": "code",
   "execution_count": 14,
   "metadata": {},
   "outputs": [
    {
     "name": "stdout",
     "output_type": "stream",
     "text": [
      "Word : count\n",
      "-----------------\n",
      "Hello   1\n",
      "Hello   1\n",
      "Good   1\n",
      "Hello   1\n",
      "Good   1\n",
      "Eveningwelcome   1\n",
      "Hello   1\n",
      "Good   1\n",
      "Eveningwelcome   1\n",
      "iitcollege   1\n",
      "Hello   1\n",
      "Good   1\n",
      "Eveningwelcome   1\n",
      "iitcollege   2\n",
      "Hello   1\n",
      "Good   1\n",
      "Eveningwelcome   1\n",
      "iitcollege   2\n",
      "welcome   1\n",
      "Hello   1\n",
      "Good   1\n",
      "Eveningwelcome   1\n",
      "iitcollege   2\n",
      "welcome   1\n",
      "To   1\n",
      "Hello   1\n",
      "Good   1\n",
      "Eveningwelcome   1\n",
      "iitcollege   1\n",
      "welcome   1\n",
      "To   1\n",
      "Hello   1\n",
      "Good   1\n",
      "Eveningwelcome   1\n",
      "iitcollege   2\n",
      "welcome   1\n",
      "To   1\n"
     ]
    }
   ],
   "source": [
    "#function to count the\n",
    "def uniword(filename):\n",
    "    count = 0\n",
    "    with open(filename,'r') as f:\n",
    "        filedata = f.read().split()\n",
    "        ds = {}\n",
    "        ls = []\n",
    "        print(\"Word\",\":\", \"count\")\n",
    "        print(\"-----------------\")\n",
    "        for i in range(0,len(filedata)):\n",
    "            count=0\n",
    "            temp = []\n",
    "            if filedata[i] in filedata:\n",
    "                for j in range(0,len(filedata)):\n",
    "                    if(filedata[i]==filedata[j]):\n",
    "                        count +=1\n",
    "\n",
    "                        temp.append(filedata[i])\n",
    "\n",
    "                        ds[filedata[i]] = temp\n",
    "                        for key in ds:\n",
    "                            print(key,\" \",len(ds[key]))\n",
    "uniword('datafiles/data.txt')"
   ]
  },
  {
   "cell_type": "code",
   "execution_count": 15,
   "metadata": {},
   "outputs": [
    {
     "ename": "SyntaxError",
     "evalue": "invalid syntax (<ipython-input-15-0959df5b370c>, line 33)",
     "output_type": "error",
     "traceback": [
      "\u001b[1;36m  File \u001b[1;32m\"<ipython-input-15-0959df5b370c>\"\u001b[1;36m, line \u001b[1;32m33\u001b[0m\n\u001b[1;33m    frequencydistibutionofwords2(filepath):\u001b[0m\n\u001b[1;37m                                           ^\u001b[0m\n\u001b[1;31mSyntaxError\u001b[0m\u001b[1;31m:\u001b[0m invalid syntax\n"
     ]
    }
   ],
   "source": [
    "# Function to print the Frequency count of repeat words in a file\n",
    "\n",
    "# Data in line 1\n",
    "# Data in line 2\n",
    "# Data in line 3\n",
    "#o/p\n",
    "#data :3\n",
    "# in:3\n",
    "# line:3\n",
    "#1:1\n",
    "#2:1\n",
    "#3:1\n",
    "\n",
    "#def frequencydistibutionofwords1(filepath):\n",
    "    # Dictionary to be used\n",
    "    # keys-> unique words\n",
    "    # values-> count of unique words\n",
    "    \n",
    "    # Two lists\n",
    "    # Allwords list\n",
    "    # Uniquewordslist\n",
    "    # set\n",
    "def frequencydistibutionofwords2(filepath):\n",
    "    allwords=WordsFromFile(filepath)\n",
    "    wordfrequency={}\n",
    "    \n",
    "    for word in allwords:\n",
    "        if word not in wordfrequency.keys():\n",
    "            wordfrequency[word]=1\n",
    "        else:\n",
    "            wordfrequency[word]+=1\n",
    "    return wordfrequency\n",
    "frequencydistibutionofwords2(filepath):"
   ]
  },
  {
   "cell_type": "code",
   "execution_count": null,
   "metadata": {},
   "outputs": [],
   "source": [
    "# Contact Appliclation\n",
    "# Add Delete Search,lists,Contacts\n",
    "\n",
    "\n",
    "# find and Replace Appliclation\n",
    "    # Count the total number of occurances of a word\n",
    "    # If word is existing\n",
    "    # Replace all occurances of a word with another word\n",
    "    \n",
    "# Marks  Analysis Appliclation\n",
    "    #Generate marks file for n students\n",
    "    #Input:MArks text file -- each line contains marks of one student\n",
    "    #Generates a report with the following information\n",
    "        #Class Average\n",
    "        #% of Students Passwd\n",
    "        #% of Students failed\n",
    "        # % of students with distinction\n",
    "        # Heighest marks Frequency\n",
    "        #lowest mark Frequency\n",
    "        "
   ]
  },
  {
   "cell_type": "code",
   "execution_count": 19,
   "metadata": {},
   "outputs": [],
   "source": [
    "# Function to Generate marks data for n students\n",
    "from random import randint\n",
    "def generatemarks(n,lb,ub):\n",
    "    with open('DataFiles/marks.txt','w') as f:\n",
    "        for i in range(0,n):\n",
    "            r=randint(lb,ub)\n",
    "            f.write(str(r)+'\\n')\n",
    "        return\n",
    "generatemarks(1000,0,100)\n",
    "    "
   ]
  },
  {
   "cell_type": "code",
   "execution_count": null,
   "metadata": {},
   "outputs": [],
   "source": []
  },
  {
   "cell_type": "code",
   "execution_count": null,
   "metadata": {},
   "outputs": [],
   "source": []
  },
  {
   "cell_type": "code",
   "execution_count": null,
   "metadata": {},
   "outputs": [],
   "source": []
  }
 ],
 "metadata": {
  "kernelspec": {
   "display_name": "Python 3",
   "language": "python",
   "name": "python3"
  },
  "language_info": {
   "codemirror_mode": {
    "name": "ipython",
    "version": 3
   },
   "file_extension": ".py",
   "mimetype": "text/x-python",
   "name": "python",
   "nbconvert_exporter": "python",
   "pygments_lexer": "ipython3",
   "version": "3.7.3"
  }
 },
 "nbformat": 4,
 "nbformat_minor": 2
}
