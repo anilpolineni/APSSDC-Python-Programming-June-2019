{
 "cells": [
  {
   "cell_type": "code",
   "execution_count": 10,
   "metadata": {},
   "outputs": [
    {
     "data": {
      "text/plain": [
       "[1]"
      ]
     },
     "execution_count": 10,
     "metadata": {},
     "output_type": "execute_result"
    }
   ],
   "source": [
    "# Read a File -File should exist\n",
    "# write to a file -existing(append) or new file\n",
    "def readfile(filepath):\n",
    "with open(filepath,'r') as f:\n",
    "filedata = f.read() # the entire file data into a string\n",
    "return filedata\n",
    "filepath = 'datafiles/data.txt'\n",
    "print(readfile(filepath))"
   ]
  },
  {
   "cell_type": "code",
   "execution_count": 1,
   "metadata": {},
   "outputs": [
    {
     "ename": "NameError",
     "evalue": "name 'readfile' is not defined",
     "output_type": "error",
     "traceback": [
      "\u001b[1;31m---------------------------------------------------------------------------\u001b[0m",
      "\u001b[1;31mNameError\u001b[0m                                 Traceback (most recent call last)",
      "\u001b[1;32m<ipython-input-1-d0d7adb75d56>\u001b[0m in \u001b[0;36m<module>\u001b[1;34m\u001b[0m\n\u001b[0;32m      6\u001b[0m \u001b[0mfilename\u001b[0m \u001b[1;33m=\u001b[0m \u001b[1;34m'datafiles/data.txt'\u001b[0m\u001b[1;33m\u001b[0m\u001b[1;33m\u001b[0m\u001b[0m\n\u001b[0;32m      7\u001b[0m \u001b[0mwriteFile\u001b[0m\u001b[1;33m(\u001b[0m\u001b[0mfilename\u001b[0m\u001b[1;33m,\u001b[0m\u001b[1;34m\"new data\"\u001b[0m\u001b[1;33m)\u001b[0m\u001b[1;33m\u001b[0m\u001b[1;33m\u001b[0m\u001b[0m\n\u001b[1;32m----> 8\u001b[1;33m \u001b[0mprint\u001b[0m\u001b[1;33m(\u001b[0m\u001b[0mreadfile\u001b[0m\u001b[1;33m(\u001b[0m\u001b[0mfilename\u001b[0m\u001b[1;33m)\u001b[0m\u001b[1;33m)\u001b[0m\u001b[1;33m\u001b[0m\u001b[1;33m\u001b[0m\u001b[0m\n\u001b[0m",
      "\u001b[1;31mNameError\u001b[0m: name 'readfile' is not defined"
     ]
    }
   ],
   "source": [
    "# write a file should be exists\n",
    "def writeFile(filename,filedata):\n",
    "    with open(filename,'a') as f:\n",
    "        f.write(filedata)\n",
    "        return\n",
    "filename = 'datafiles/data.txt'\n",
    "writeFile(filename,\"new data\")\n",
    "print(readfile(filename))"
   ]
  },
  {
   "cell_type": "code",
   "execution_count": 2,
   "metadata": {},
   "outputs": [
    {
     "name": "stdout",
     "output_type": "stream",
     "text": [
      "58\n"
     ]
    }
   ],
   "source": [
    "# character count in file\n",
    "def countchar(filename):\n",
    "    with open(filename,'r') as f:\n",
    "        print(len(f.read()))\n",
    "countchar('datafiles/data.txt')"
   ]
  },
  {
   "cell_type": "code",
   "execution_count": 4,
   "metadata": {},
   "outputs": [
    {
     "name": "stdout",
     "output_type": "stream",
     "text": [
      "3\n"
     ]
    }
   ],
   "source": [
    "# linescount in file\n",
    "def linecount(filename):\n",
    "    with open(filename,'r') as f:\n",
    "        count=len(f.readlines())\n",
    "        print(count)\n",
    "linecount('datafiles/data.txt')"
   ]
  },
  {
   "cell_type": "code",
   "execution_count": 3,
   "metadata": {},
   "outputs": [
    {
     "name": "stdout",
     "output_type": "stream",
     "text": [
      "8\n"
     ]
    }
   ],
   "source": [
    "# word count in file\n",
    "def countword(filename):\n",
    "    with open(filename,'r') as f:\n",
    "        filedata=f.read().split()\n",
    "        print(len(filedata))\n",
    "countword('DataFiles/data.txt')"
   ]
  },
  {
   "cell_type": "code",
   "execution_count": 16,
   "metadata": {},
   "outputs": [
    {
     "data": {
      "text/plain": [
       "[1]"
      ]
     },
     "execution_count": 16,
     "metadata": {},
     "output_type": "execute_result"
    }
   ],
   "source": [
    "def uniquedata(li):\n",
    "    unique = []\n",
    "    for element in li:\n",
    "        if element not in unique:\n",
    "            unique.append(element)\n",
    "            return unique\n",
    "li = [1,2,3,3,2,1]\n",
    "uniquedata(li)"
   ]
  },
  {
   "cell_type": "code",
   "execution_count": 12,
   "metadata": {},
   "outputs": [
    {
     "name": "stdout",
     "output_type": "stream",
     "text": [
      "['Hello'] Length Is: 1\n",
      "['Hello', 'Good'] Length Is: 2\n",
      "['Hello', 'Good', 'Eveningwelcome'] Length Is: 3\n",
      "['Hello', 'Good', 'Eveningwelcome', 'iitcollege'] Length Is: 4\n",
      "['Hello', 'Good', 'Eveningwelcome', 'iitcollege', 'welcome'] Length Is: 5\n",
      "['Hello', 'Good', 'Eveningwelcome', 'iitcollege', 'welcome', 'To'] Length Is: 6\n"
     ]
    }
   ],
   "source": [
    "def uniquewordcount(filename):\n",
    "    count=0\n",
    "    with open(filename,'r') as f:\n",
    "        filedata=f.read().split()\n",
    "        ls = []\n",
    "        for i in filedata:\n",
    "            if i not in ls:\n",
    "                ls.append(i)\n",
    "                print(ls,\"Length Is:\",len(ls))\n",
    "uniquewordcount('datafiles/data.txt')"
   ]
  },
  {
   "cell_type": "code",
   "execution_count": 8,
   "metadata": {},
   "outputs": [
    {
     "name": "stdout",
     "output_type": "stream",
     "text": [
      "58 bytes\n"
     ]
    }
   ],
   "source": [
    "# the length of filesize\n",
    "def filsize(filename):\n",
    "    with open(filename,'r') as f:\n",
    "        print(len(f.read()),\"bytes\")\n",
    "filsize('DataFiles/data.txt')"
   ]
  },
  {
   "cell_type": "code",
   "execution_count": 14,
   "metadata": {},
   "outputs": [
    {
     "name": "stdout",
     "output_type": "stream",
     "text": [
      "Word : count\n",
      "-----------------\n",
      "Hello   1\n",
      "Hello   1\n",
      "Good   1\n",
      "Hello   1\n",
      "Good   1\n",
      "Eveningwelcome   1\n",
      "Hello   1\n",
      "Good   1\n",
      "Eveningwelcome   1\n",
      "iitcollege   1\n",
      "Hello   1\n",
      "Good   1\n",
      "Eveningwelcome   1\n",
      "iitcollege   2\n",
      "Hello   1\n",
      "Good   1\n",
      "Eveningwelcome   1\n",
      "iitcollege   2\n",
      "welcome   1\n",
      "Hello   1\n",
      "Good   1\n",
      "Eveningwelcome   1\n",
      "iitcollege   2\n",
      "welcome   1\n",
      "To   1\n",
      "Hello   1\n",
      "Good   1\n",
      "Eveningwelcome   1\n",
      "iitcollege   1\n",
      "welcome   1\n",
      "To   1\n",
      "Hello   1\n",
      "Good   1\n",
      "Eveningwelcome   1\n",
      "iitcollege   2\n",
      "welcome   1\n",
      "To   1\n"
     ]
    }
   ],
   "source": [
    "#function to count the\n",
    "def uniword(filename):\n",
    "    count = 0\n",
    "    with open(filename,'r') as f:\n",
    "        filedata = f.read().split()\n",
    "        ds = {}\n",
    "        ls = []\n",
    "        print(\"Word\",\":\", \"count\")\n",
    "        print(\"-----------------\")\n",
    "        for i in range(0,len(filedata)):\n",
    "            count=0\n",
    "            temp = []\n",
    "            if filedata[i] in filedata:\n",
    "                for j in range(0,len(filedata)):\n",
    "                    if(filedata[i]==filedata[j]):\n",
    "                        count +=1\n",
    "\n",
    "                        temp.append(filedata[i])\n",
    "\n",
    "                        ds[filedata[i]] = temp\n",
    "                        for key in ds:\n",
    "                            print(key,\" \",len(ds[key]))\n",
    "uniword('datafiles/data.txt')"
   ]
  },
  {
   "cell_type": "code",
   "execution_count": 7,
   "metadata": {},
   "outputs": [
    {
     "ename": "SyntaxError",
     "evalue": "invalid syntax (<ipython-input-7-0959df5b370c>, line 33)",
     "output_type": "error",
     "traceback": [
      "\u001b[1;36m  File \u001b[1;32m\"<ipython-input-7-0959df5b370c>\"\u001b[1;36m, line \u001b[1;32m33\u001b[0m\n\u001b[1;33m    frequencydistibutionofwords2(filepath):\u001b[0m\n\u001b[1;37m                                           ^\u001b[0m\n\u001b[1;31mSyntaxError\u001b[0m\u001b[1;31m:\u001b[0m invalid syntax\n"
     ]
    }
   ],
   "source": [
    "# Function to print the Frequency count of repeat words in a file\n",
    "\n",
    "# Data in line 1\n",
    "# Data in line 2\n",
    "# Data in line 3\n",
    "#o/p\n",
    "#data :3\n",
    "# in:3\n",
    "# line:3\n",
    "#1:1\n",
    "#2:1\n",
    "#3:1\n",
    "\n",
    "#def frequencydistibutionofwords1(filepath):\n",
    "    # Dictionary to be used\n",
    "    # keys-> unique words\n",
    "    # values-> count of unique words\n",
    "    \n",
    "    # Two lists\n",
    "    # Allwords list\n",
    "    # Uniquewordslist\n",
    "    # set\n",
    "def frequencydistibutionofwords2(filepath):\n",
    "    allwords=WordsFromFile(filepath)\n",
    "    wordfrequency={}\n",
    "    \n",
    "    for word in allwords:\n",
    "        if word not in wordfrequency.keys():\n",
    "            wordfrequency[word]=1\n",
    "        else:\n",
    "            wordfrequency[word]+=1\n",
    "    return wordfrequency\n",
    "frequencydistibutionofwords2(filepath):"
   ]
  },
  {
   "cell_type": "code",
   "execution_count": null,
   "metadata": {},
   "outputs": [],
   "source": [
    "# Contact Appliclation\n",
    "# Add Delete Search,lists,Contacts\n",
    "\n",
    "\n",
    "# find and Replace Appliclation\n",
    "    # Count the total number of occurances of a word\n",
    "    # If word is existing\n",
    "    # Replace all occurances of a word with another word\n",
    "    \n",
    "# Marks  Analysis Appliclation\n",
    "    #Generate marks file for n students\n",
    "    #Input:MArks text file -- each line contains marks of one student\n",
    "    #Generates a report with the following information\n",
    "        #Class Average\n",
    "        #% of Students Passwd\n",
    "        #% of Students failed\n",
    "        # % of students with distinction\n",
    "        # Heighest marks Frequency\n",
    "        #lowest mark Frequency\n",
    "        "
   ]
  },
  {
   "cell_type": "code",
   "execution_count": 71,
   "metadata": {
    "scrolled": true
   },
   "outputs": [],
   "source": [
    "# Function to Generate marks data for n students\n",
    "from random import randint\n",
    "def generatemarks(n,lb,ub):\n",
    "    with open('DataFiles/marks.txt','w') as f:\n",
    "        for i in range(0,n):\n",
    "            r=randint(lb,ub)\n",
    "            f.write(str(r)+'\\n')\n",
    "        return\n",
    "generatemarks(1000,0,100)           "
   ]
  },
  {
   "cell_type": "code",
   "execution_count": 80,
   "metadata": {
    "scrolled": false
   },
   "outputs": [],
   "source": [
    "#def read(filename):\n",
    "#    with open(filename,'r')as f:\n",
    "#        filedata=f.read().split()\n",
    "#    return filedata\n",
    "#read(\"DataFiles/marks.txt\")\n"
   ]
  },
  {
   "cell_type": "code",
   "execution_count": 73,
   "metadata": {},
   "outputs": [
    {
     "name": "stdout",
     "output_type": "stream",
     "text": [
      "49.368\n"
     ]
    }
   ],
   "source": [
    "# Average MArks\n",
    "# sum of marks/student count\n",
    "def ClassAvg(filename):\n",
    "    sum=0\n",
    "    count=0\n",
    "    with open(filename,'r') as f:\n",
    "        for i in f:\n",
    "            sum+=int(i)\n",
    "            count+=1\n",
    "    print(sum/count)\n",
    "filename=\"DataFiles/marks.txt\"\n",
    "ClassAvg(filename)\n",
    "            \n"
   ]
  },
  {
   "cell_type": "code",
   "execution_count": 65,
   "metadata": {},
   "outputs": [
    {
     "name": "stdout",
     "output_type": "stream",
     "text": [
      "66.10000000000001\n"
     ]
    }
   ],
   "source": [
    "# passPercentage\n",
    "# (passed count/totalcount)*100\n",
    "def passpercentage(filepath):\n",
    "    mc=0\n",
    "    count=0\n",
    "    with open(filename,'r') as f:\n",
    "        for i in f:\n",
    "            mc=mc+1\n",
    "            if int(i)>=35:\n",
    "                count+=1\n",
    "    print((count/mc)*100)\n",
    "filepath=\"DataFiles/marks.txt\"\n",
    "passpercentage(filepath)"
   ]
  },
  {
   "cell_type": "code",
   "execution_count": 74,
   "metadata": {},
   "outputs": [
    {
     "name": "stdout",
     "output_type": "stream",
     "text": [
      "34.8\n"
     ]
    }
   ],
   "source": [
    "# FailedPercentage\n",
    "# (Failed count/totalcount)*100\n",
    "def FailedPercentage(filepath):\n",
    "    mc=0\n",
    "    count=0\n",
    "    with open(filename,'r') as f:\n",
    "        for i in f:\n",
    "            mc=mc+1\n",
    "            if int(i)<35:\n",
    "                count+=1\n",
    "    print((count/mc)*100)\n",
    "filepath=\"DataFiles/marks.txt\"\n",
    "FailedPercentage(filepath)"
   ]
  },
  {
   "cell_type": "code",
   "execution_count": 75,
   "metadata": {},
   "outputs": [
    {
     "name": "stdout",
     "output_type": "stream",
     "text": [
      "25.4\n"
     ]
    }
   ],
   "source": [
    "# Distinction\n",
    "# total distinction count/total syudent count*100\n",
    "def distinction(filepath):\n",
    "    with open(filename,'r') as f:\n",
    "        mc=0\n",
    "        count=0\n",
    "        for i in f:\n",
    "            mc+=1\n",
    "            if int(i)>=75:\n",
    "                count+=1\n",
    "    print((count/mc)*100)\n",
    "filepath=\"DataFiles/marks.txt\"\n",
    "distinction(filepath)"
   ]
  },
  {
   "cell_type": "code",
   "execution_count": 76,
   "metadata": {},
   "outputs": [
    {
     "name": "stdout",
     "output_type": "stream",
     "text": [
      "100\n"
     ]
    },
    {
     "data": {
      "text/plain": [
       "5"
      ]
     },
     "execution_count": 76,
     "metadata": {},
     "output_type": "execute_result"
    }
   ],
   "source": [
    "# Highest Marks-frequency highestcount(filepath)\n",
    "def heighestfrequency(filepath):\n",
    "    with open(filename,'r') as f:\n",
    "        s=f.read().split()\n",
    "        s=list(map(int,s))\n",
    "        print(max(s))\n",
    "    return s.count(max(s))\n",
    "filepath=\"DataFiles/marks.txt\"\n",
    "heighestfrequency(filepath)        \n",
    "        \n",
    "    "
   ]
  },
  {
   "cell_type": "code",
   "execution_count": 77,
   "metadata": {},
   "outputs": [
    {
     "name": "stdout",
     "output_type": "stream",
     "text": [
      "0\n"
     ]
    },
    {
     "data": {
      "text/plain": [
       "9"
      ]
     },
     "execution_count": 77,
     "metadata": {},
     "output_type": "execute_result"
    }
   ],
   "source": [
    "def lowestfrequency(filepath):\n",
    "    with open(filename,'r') as f:\n",
    "        s=f.read().split()\n",
    "        s=list(map(int,s))\n",
    "        print(min(s))\n",
    "    return s.count(min(s))\n",
    "filepath=\"DataFiles/marks.txt\"\n",
    "lowestfrequency(filepath)   "
   ]
  },
  {
   "cell_type": "code",
   "execution_count": 79,
   "metadata": {},
   "outputs": [
    {
     "name": "stdout",
     "output_type": "stream",
     "text": [
      "Choose Your Option:\n",
      "1).generatemarks\n",
      "2).passpercentage\n",
      "3).FailedPercentage\n",
      "4).distinction\n",
      "5.heighestfrequency\n",
      "6).lowestfrequency\n",
      "71\n",
      "enter no of student Marks:2\n",
      "Choose Your Option:\n",
      "1).generatemarks\n",
      "2).passpercentage\n",
      "3).FailedPercentage\n",
      "4).distinction\n",
      "5.heighestfrequency\n",
      "6).lowestfrequency\n",
      "73\n",
      "0.0\n",
      "None\n",
      "Choose Your Option:\n",
      "1).generatemarks\n",
      "2).passpercentage\n",
      "3).FailedPercentage\n",
      "4).distinction\n",
      "5.heighestfrequency\n",
      "6).lowestfrequency\n",
      "74\n",
      "50.0\n",
      "None\n",
      "Choose Your Option:\n",
      "1).generatemarks\n",
      "2).passpercentage\n",
      "3).FailedPercentage\n",
      "4).distinction\n",
      "5.heighestfrequency\n",
      "6).lowestfrequency\n",
      "75\n",
      "98\n",
      "1\n",
      "Choose Your Option:\n",
      "1).generatemarks\n",
      "2).passpercentage\n",
      "3).FailedPercentage\n",
      "4).distinction\n",
      "5.heighestfrequency\n",
      "6).lowestfrequency\n",
      "76\n",
      "59\n",
      "1\n",
      "Choose Your Option:\n",
      "1).generatemarks\n",
      "2).passpercentage\n",
      "3).FailedPercentage\n",
      "4).distinction\n",
      "5.heighestfrequency\n",
      "6).lowestfrequency\n",
      "77\n"
     ]
    }
   ],
   "source": [
    "def MarksGenerate(filepath):\n",
    "    while True:\n",
    "        n=int(input('Choose Your Option:\\n1).generatemarks\\n2).passpercentage\\n3).FailedPercentage\\n4).distinction\\n5.heighestfrequency\\n6).lowestfrequency\\n7'))\n",
    "        if (n==1):\n",
    "            m=int(input('enter no of student Marks:'))\n",
    "            generatemarks(m,1,100)\n",
    "        elif (n==2):\n",
    "            print(passpercentage(filepath))\n",
    "        elif (n==3):\n",
    "            print(FailedPercentage(filepath))\n",
    "        elif (n==4):\n",
    "            print(distinction(filepath))\n",
    "        elif (n==5):\n",
    "            print(heighestfrequency(filepath))\n",
    "        elif (n==6):\n",
    "            print(lowestfrequency(filepath))\n",
    "        else:\n",
    "            break\n",
    "            \n",
    "filepath=\"DataFiles/marks.txt\"\n",
    "MarksGenerate(filepath)   \n",
    "\n",
    "   \n",
    "        "
   ]
  },
  {
   "cell_type": "markdown",
   "metadata": {},
   "source": [
    "# Contact Appliclation"
   ]
  },
  {
   "cell_type": "code",
   "execution_count": 65,
   "metadata": {},
   "outputs": [
    {
     "name": "stdout",
     "output_type": "stream",
     "text": [
      "Contact already Exists.\n"
     ]
    }
   ],
   "source": [
    "# Contact Appliclation\n",
    "# AddContact\n",
    "import packages.validators as fh # form packages import validator\n",
    "\n",
    "def addcontact(name,number,email):\n",
    "    filename = 'DataFiles/contacts.txt'\n",
    "    if fh.emailvalidator(email) and fh.PhoneNumberValidator(number):\n",
    "        if checkContactExists(name):\n",
    "            print(\"Contact already Exists.\")\n",
    "        else:\n",
    "            with open(filename,'a') as f:\n",
    "                f.writelines(name+','+str(number)+','+email+'\\n')\n",
    "                print(name,\"Contact Saved successfully...!\")\n",
    "    else:\n",
    "        print(\"Invalid Contact,either email or phone number is invalid\")\n",
    "            \n",
    "addcontact('Anil',7702483004,'anilpolineni09@gmail.com')       \n",
    "        \n",
    "        "
   ]
  },
  {
   "cell_type": "code",
   "execution_count": 25,
   "metadata": {},
   "outputs": [],
   "source": [
    "import re\n",
    "def checkContactExists(name):\n",
    "    filename = 'DataFiles/contacts.txt'\n",
    "    with open(filename,'r') as f:\n",
    "        filedata = f.read()\n",
    "        pattern = name+','\n",
    "    return re.search(pattern,filedata)"
   ]
  },
  {
   "cell_type": "code",
   "execution_count": 56,
   "metadata": {},
   "outputs": [
    {
     "name": "stdout",
     "output_type": "stream",
     "text": [
      "Anilpolineni 8919066749 anilpolineni@gmail.com\n",
      "\n"
     ]
    }
   ],
   "source": [
    "# search contact\n",
    "def serachcontact(name):\n",
    "    filename = 'DataFiles/contacts.txt'\n",
    "    if checkContactExists(name):\n",
    "        with open(filename,'r') as f:\n",
    "            for i in f:\n",
    "                i=i.split(',')\n",
    "                if i[0]==name:\n",
    "                    print(i[0],i[1],i[2])\n",
    "    else:\n",
    "        print('contact doesnot exists')\n",
    "            \n",
    "serachcontact('Anilpolineni')"
   ]
  },
  {
   "cell_type": "code",
   "execution_count": 47,
   "metadata": {},
   "outputs": [
    {
     "data": {
      "text/plain": [
       "[['Anilpolineni', '8919066749', 'anilpolineni@gmail.com\\n'],\n",
       " ['Anil', '7702483004', 'anilpolineni09@gmail.com\\n']]"
      ]
     },
     "execution_count": 47,
     "metadata": {},
     "output_type": "execute_result"
    }
   ],
   "source": [
    "# files to list\n",
    "\n",
    "def contactlist(name):\n",
    "    ls = []\n",
    "    with open(name,'r') as f:\n",
    "        for line in f:\n",
    "            ls.append(line.split(','))\n",
    "    return ls\n",
    "ls = contactlist('DataFiles/contacts.txt')\n",
    "ls"
   ]
  },
  {
   "cell_type": "code",
   "execution_count": 57,
   "metadata": {},
   "outputs": [
    {
     "data": {
      "text/plain": [
       "'Anilpolineni,8919066749,anilpolineni@gmail.com\\n,Anil,7702483004,anilpolineni09@gmail.com\\n,'"
      ]
     },
     "execution_count": 57,
     "metadata": {},
     "output_type": "execute_result"
    }
   ],
   "source": [
    "# files with string\n",
    "def contactsstring(ls):\n",
    "    s = ''\n",
    "    for i in range(0,len(ls)):\n",
    "        lls = ls[i]\n",
    "        for j in range(0,len(lls)):\n",
    "            s+=str(lls[j])+','\n",
    "    return s\n",
    "contactsstring(ls)"
   ]
  },
  {
   "cell_type": "code",
   "execution_count": 60,
   "metadata": {},
   "outputs": [
    {
     "name": "stdout",
     "output_type": "stream",
     "text": [
      "Anilpolineni 8919066749 anilpolineni@gmail.com\n",
      "\n",
      "Anil 7702483004 anilpolineni09@gmail.com\n",
      "\n"
     ]
    }
   ],
   "source": [
    "# Show  All contacts\n",
    "def showcontact():\n",
    "    ls = contactlist('DataFiles/contacts.txt')\n",
    "    for i in range(0,len(ls)):\n",
    "        lss = ls[i]\n",
    "        print(lss[0],lss[1],lss[2])\n",
    "showcontact()"
   ]
  },
  {
   "cell_type": "code",
   "execution_count": 1,
   "metadata": {},
   "outputs": [],
   "source": [
    "# Edit the Contacts in a file\n",
    "\n",
    "def editContact(name,number,email):\n",
    "    ls =contactlist('DataFiles/contacts.txt')\n",
    "    for i in range(0,len(ls)):\n",
    "        lss = ls[i]\n",
    "        for j in range(0,len(lss)):\n",
    "            if(name == lss[j]):\n",
    "                lss[0] = name\n",
    "                lss[1] = number\n",
    "                lss[2] = email\n",
    "                print(name,\" Updated..\")   \n",
    "                print(lss[0],lss[1],lss[2])\n",
    "    s=editContact(ls)\n",
    "    save2File(s)\n",
    "    return s"
   ]
  },
  {
   "cell_type": "code",
   "execution_count": 2,
   "metadata": {},
   "outputs": [],
   "source": [
    "def save2File(s):\n",
    "    with open(\"DataFiles/contacts.txt\",'w') as f:\n",
    "        f.write(s)"
   ]
  },
  {
   "cell_type": "code",
   "execution_count": 5,
   "metadata": {},
   "outputs": [
    {
     "ename": "NameError",
     "evalue": "name 'contactlist' is not defined",
     "output_type": "error",
     "traceback": [
      "\u001b[1;31m---------------------------------------------------------------------------\u001b[0m",
      "\u001b[1;31mNameError\u001b[0m                                 Traceback (most recent call last)",
      "\u001b[1;32m<ipython-input-5-d5569fa5dc44>\u001b[0m in \u001b[0;36m<module>\u001b[1;34m\u001b[0m\n\u001b[1;32m----> 1\u001b[1;33m \u001b[0mtemp\u001b[0m \u001b[1;33m=\u001b[0m \u001b[0meditContact\u001b[0m\u001b[1;33m(\u001b[0m\u001b[1;34m'Anil'\u001b[0m\u001b[1;33m,\u001b[0m\u001b[1;36m7702483004\u001b[0m\u001b[1;33m,\u001b[0m\u001b[1;34m'anil.p@gmail.com'\u001b[0m\u001b[1;33m)\u001b[0m\u001b[1;33m\u001b[0m\u001b[1;33m\u001b[0m\u001b[0m\n\u001b[0m\u001b[0;32m      2\u001b[0m \u001b[0mtemp\u001b[0m\u001b[1;33m\u001b[0m\u001b[1;33m\u001b[0m\u001b[0m\n",
      "\u001b[1;32m<ipython-input-1-3c40d16f2a32>\u001b[0m in \u001b[0;36meditContact\u001b[1;34m(name, number, email)\u001b[0m\n\u001b[0;32m      2\u001b[0m \u001b[1;33m\u001b[0m\u001b[0m\n\u001b[0;32m      3\u001b[0m \u001b[1;32mdef\u001b[0m \u001b[0meditContact\u001b[0m\u001b[1;33m(\u001b[0m\u001b[0mname\u001b[0m\u001b[1;33m,\u001b[0m\u001b[0mnumber\u001b[0m\u001b[1;33m,\u001b[0m\u001b[0memail\u001b[0m\u001b[1;33m)\u001b[0m\u001b[1;33m:\u001b[0m\u001b[1;33m\u001b[0m\u001b[1;33m\u001b[0m\u001b[0m\n\u001b[1;32m----> 4\u001b[1;33m     \u001b[0mls\u001b[0m \u001b[1;33m=\u001b[0m\u001b[0mcontactlist\u001b[0m\u001b[1;33m(\u001b[0m\u001b[1;34m'DataFiles/contacts.txt'\u001b[0m\u001b[1;33m)\u001b[0m\u001b[1;33m\u001b[0m\u001b[1;33m\u001b[0m\u001b[0m\n\u001b[0m\u001b[0;32m      5\u001b[0m     \u001b[1;32mfor\u001b[0m \u001b[0mi\u001b[0m \u001b[1;32min\u001b[0m \u001b[0mrange\u001b[0m\u001b[1;33m(\u001b[0m\u001b[1;36m0\u001b[0m\u001b[1;33m,\u001b[0m\u001b[0mlen\u001b[0m\u001b[1;33m(\u001b[0m\u001b[0mls\u001b[0m\u001b[1;33m)\u001b[0m\u001b[1;33m)\u001b[0m\u001b[1;33m:\u001b[0m\u001b[1;33m\u001b[0m\u001b[1;33m\u001b[0m\u001b[0m\n\u001b[0;32m      6\u001b[0m         \u001b[0mlss\u001b[0m \u001b[1;33m=\u001b[0m \u001b[0mls\u001b[0m\u001b[1;33m[\u001b[0m\u001b[0mi\u001b[0m\u001b[1;33m]\u001b[0m\u001b[1;33m\u001b[0m\u001b[1;33m\u001b[0m\u001b[0m\n",
      "\u001b[1;31mNameError\u001b[0m: name 'contactlist' is not defined"
     ]
    }
   ],
   "source": [
    "temp = editContact('Anil',7702483004,'anil.p@gmail.com')\n",
    "temp"
   ]
  },
  {
   "cell_type": "code",
   "execution_count": null,
   "metadata": {},
   "outputs": [],
   "source": [
    "def delete(name):\n",
    "    ls=filename'DataFiles/contacts.txt'\n",
    "    lss = ls[i]\n",
    "        for j in range(0,len(lss)):\n",
    "            if(name == lss[j]):\n",
    "                ls.pop(i)\n",
    "                print(name,\" Deleted..\")    \n",
    "            else:\n",
    "                print(\"not Deleted\")\n",
    "    s=alldata(ls)\n",
    "    save2File(s)\n",
    "    return s\n",
    "    "
   ]
  }
 ],
 "metadata": {
  "kernelspec": {
   "display_name": "Python 3",
   "language": "python",
   "name": "python3"
  },
  "language_info": {
   "codemirror_mode": {
    "name": "ipython",
    "version": 3
   },
   "file_extension": ".py",
   "mimetype": "text/x-python",
   "name": "python",
   "nbconvert_exporter": "python",
   "pygments_lexer": "ipython3",
   "version": "3.7.3"
  }
 },
 "nbformat": 4,
 "nbformat_minor": 2
}
