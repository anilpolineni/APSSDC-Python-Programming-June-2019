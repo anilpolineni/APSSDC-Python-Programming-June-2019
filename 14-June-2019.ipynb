{
 "cells": [
  {
   "cell_type": "markdown",
   "metadata": {},
   "source": [
    "# Problem Sloving  and Programming\n",
    "### Date -14-June-2019\n",
    "- Python Data Structures\n",
    "- Lists\n",
    "- Tuples\n",
    "- Dictionaries\n",
    "* Basic Problem set on Data Structures\n",
    "* Advanced Problem Set\n",
    "* Packages and Modules in Python"
   ]
  },
  {
   "cell_type": "markdown",
   "metadata": {},
   "source": [
    "# Python Data Structures\n",
    "* Lists"
   ]
  },
  {
   "cell_type": "code",
   "execution_count": 42,
   "metadata": {},
   "outputs": [
    {
     "data": {
      "text/plain": [
       "[123, 345, 456, 234, 456, 789]"
      ]
     },
     "execution_count": 42,
     "metadata": {},
     "output_type": "execute_result"
    }
   ],
   "source": [
    "li=[123,456,789]\n",
    "li # Access the entire list\n",
    "\n",
    "li[0] #  Access an element with index in a list\n",
    "\n",
    "li[1:] # All elements second element to last element (slicing)\n",
    "\n",
    "li[::-1] # Reverse\n",
    "\n",
    "li=li[::-1] # orginal updated to reverse\n",
    "\n",
    "li=li[::-1] # reverse to prginal list\n",
    "\n",
    "li[::2] # accessing even index elements\n",
    "\n",
    "li[1::2] # accessing odd index elements\n",
    "\n",
    "# Lists can be accessed, manipulated in two different ways\n",
    "    # Direct Referencing -- [index]\n",
    "    # Indirect Refercening--through functions\n",
    "\n",
    "li.append(345)# Adding an elelment to the end of the list\n",
    "li.insert(1,234)# Adding an element at a pirtuclar index\n",
    "li.sort() # sort elements in ascending order\n",
    "li.pop()# remove the last element\n",
    "li.pop(1) # remove the element at apirtuclar index\n",
    "li2=[234,456,789]\n",
    "li.extend(li2)# Merge list2 into list1\n",
    "sum(li) # sum of all elements in a list\n",
    "max(li) # MAximun element in alist\n",
    "len(li)# Number of  elements in alist\n",
    "li\n",
    "sum(li)/len(li)# Average of list elements\n",
    "\n",
    "sum(li[1::2])/len(li[1::2])#Average of all alternate elements\n",
    "li"
   ]
  },
  {
   "cell_type": "code",
   "execution_count": 67,
   "metadata": {},
   "outputs": [
    {
     "name": "stdout",
     "output_type": "stream",
     "text": [
      "[123, 234, 345, 456, 456, 789]\n"
     ]
    },
    {
     "data": {
      "text/plain": [
       "234"
      ]
     },
     "execution_count": 67,
     "metadata": {},
     "output_type": "execute_result"
    }
   ],
   "source": [
    "# Function to identify the second largest elelment  in a  unique list\n",
    "\n",
    " # Sort the data and select the second last element\n",
    " # sort the data in reverse order and select the\n",
    " # remove the max and then get the max of the new list\n",
    " # \n",
    "def secondlargest(li):\n",
    "    li.sort()\n",
    "    print(li)\n",
    "    return li[-2]\n",
    "\n",
    "#secondlargest(li)\n",
    "\n",
    "# Function that returns the nth largest\n",
    "def genericlargest(li,n):\n",
    "    li.sort()\n",
    "    #print(li)\n",
    "    return li[-n]\n",
    "print(li)\n",
    "genericlargest(li,5)\n"
   ]
  },
  {
   "cell_type": "code",
   "execution_count": 81,
   "metadata": {},
   "outputs": [
    {
     "data": {
      "text/plain": [
       "5"
      ]
     },
     "execution_count": 81,
     "metadata": {},
     "output_type": "execute_result"
    }
   ],
   "source": [
    "# Function to search data in a list\n",
    "# search for the key in the list and return the index of the return key,return -1 if key  not found\n",
    "def linearsearch(li,key):\n",
    "    for index in range(0,len(li)):  # for value in range(0.len(li))\n",
    "        if li[index]==key:\n",
    "            return index\n",
    "    return -1\n",
    "\n",
    "def linearsearch2(li,key):\n",
    "    for ele in li:\n",
    "        if ele ==key:\n",
    "            return li.index(ele)\n",
    "    return -1\n",
    "def linearsearch3(li,key):\n",
    "    if key in li:\n",
    "        return li.index(key)\n",
    "    return -1\n",
    "linearsearch(li,789)\n",
    "    \n"
   ]
  },
  {
   "cell_type": "code",
   "execution_count": 91,
   "metadata": {},
   "outputs": [
    {
     "data": {
      "text/plain": [
       "2"
      ]
     },
     "execution_count": 91,
     "metadata": {},
     "output_type": "execute_result"
    }
   ],
   "source": [
    "# Function to count occurances of a character in a string \"python programming\",m->2\n",
    "def countoccurances(n,c):\n",
    "    count=0\n",
    "    for i in n:\n",
    "        if i==c:\n",
    "            count+=1\n",
    "    return count\n",
    "\n",
    "def countoccurances2(n,c):\n",
    "    return n.count(c)\n",
    "countoccurances2('python programming','g')"
   ]
  },
  {
   "cell_type": "code",
   "execution_count": 5,
   "metadata": {},
   "outputs": [
    {
     "data": {
      "text/plain": [
       "0"
      ]
     },
     "execution_count": 5,
     "metadata": {},
     "output_type": "execute_result"
    }
   ],
   "source": [
    "# Function to find the occurances of a substring\n",
    "def substring(a,c):\n",
    "    count=0\n",
    "    i=len(c)\n",
    "    for i in a:\n",
    "        if i==c:\n",
    "            count+=1\n",
    "    return count\n",
    "substring('abcababa','ab')"
   ]
  },
  {
   "cell_type": "code",
   "execution_count": 8,
   "metadata": {},
   "outputs": [
    {
     "data": {
      "text/plain": [
       "[1, 2, 3, 4, 5]"
      ]
     },
     "execution_count": 8,
     "metadata": {},
     "output_type": "execute_result"
    }
   ],
   "source": [
    "m='1 2 3 4 5'\n",
    "n= m.split()\n",
    "p=[]\n",
    "for i in n:\n",
    "    p.append(int(i))\n",
    "p"
   ]
  },
  {
   "cell_type": "markdown",
   "metadata": {},
   "source": [
    "# Hacker Rank Problems"
   ]
  },
  {
   "cell_type": "code",
   "execution_count": 1,
   "metadata": {},
   "outputs": [
    {
     "name": "stdout",
     "output_type": "stream",
     "text": [
      "3\n"
     ]
    },
    {
     "data": {
      "text/plain": [
       "14"
      ]
     },
     "execution_count": 1,
     "metadata": {},
     "output_type": "execute_result"
    }
   ],
   "source": [
    "a=int(input())\n",
    "def sumofsquares(a):\n",
    "    sum=0\n",
    "    for i in range(1,a+1):\n",
    "        sum=sum+i**2\n",
    "    return sum\n",
    "sumofsquares(a)\n",
    "\n",
    "        \n",
    "        \n"
   ]
  },
  {
   "cell_type": "code",
   "execution_count": null,
   "metadata": {},
   "outputs": [],
   "source": [
    "n=int(input())\n",
    "s=input()\n",
    "#\"1 2 3 4 5\"\n",
    "l=[]\n",
    "for i in s.split():\n",
    "    l.append(abs(int(i)))\n",
    "#min(i)\n",
    "def closestzero(l):\n",
    "    # separte all numbers lessthan zero and take max of list\n",
    "    # all numbers greater = zero, get the input\n",
    "    # -1 2 4 5 -10\n",
    "    n1=[]\n",
    "    for i in l:\n",
    "        if i<=n1:\n",
    "            n1.append(i)\n",
    "    p1=[]\n",
    "    for i in l:\n",
    "        if i>=0:\n",
    "            p1.append(i)\n",
    "    nc=max(n1)\n",
    "    pc=min(p1)\n",
    "    if pc==0:\n",
    "        return pc\n",
    "    if abs(nc)==pc:\n",
    "        return pc\n",
    "    elif abs(nc)<pc:\n",
    "        return(nc)\n",
    "    else:\n",
    "        return pc\n",
    "closestzero(l)        \n"
   ]
  }
 ],
 "metadata": {
  "kernelspec": {
   "display_name": "Python 3",
   "language": "python",
   "name": "python3"
  },
  "language_info": {
   "codemirror_mode": {
    "name": "ipython",
    "version": 3
   },
   "file_extension": ".py",
   "mimetype": "text/x-python",
   "name": "python",
   "nbconvert_exporter": "python",
   "pygments_lexer": "ipython3",
   "version": "3.7.3"
  }
 },
 "nbformat": 4,
 "nbformat_minor": 2
}
