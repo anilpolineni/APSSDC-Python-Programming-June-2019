{
 "cells": [
  {
   "cell_type": "markdown",
   "metadata": {},
   "source": [
    "#  Play with Numbers"
   ]
  },
  {
   "cell_type": "code",
   "execution_count": 1,
   "metadata": {},
   "outputs": [
    {
     "name": "stdout",
     "output_type": "stream",
     "text": [
      "5 3\n",
      "1 2 3 4 5\n",
      "1 3\n",
      "2\n",
      "2 4\n",
      "3\n",
      "2 5\n",
      "3\n"
     ]
    }
   ],
   "source": [
    "n=input().split()\n",
    "n[0],n[1]=int(n[0]),int(n[1])\n",
    "a=input().split()\n",
    "sum=[]\n",
    "for i in range(0,n[0]):\n",
    "    if i==0:\n",
    "        sum.append(int(a[i]))    \n",
    "    else:\n",
    "        sum.append(int(sum[i-1])+int(a[i]))\n",
    "del a\n",
    "#read query\n",
    "for k in range(0,n[1]):\n",
    "    quer=input().split()\n",
    "    i=int(quer[0])\n",
    "    j=int(quer[1])\n",
    "    if i>1:\n",
    "        print((sum[j-1]-sum[i-2])//(j-i+1))\n",
    "    else:\n",
    "        print(sum[j-1]//j-i+1)\n"
   ]
  },
  {
   "cell_type": "code",
   "execution_count": 14,
   "metadata": {},
   "outputs": [
    {
     "name": "stdout",
     "output_type": "stream",
     "text": [
      "2\n",
      "6\n",
      "1\n",
      "NO\n",
      "6\n",
      "YES\n",
      "7\n",
      "NO\n",
      "8\n",
      "NO\n",
      "9\n",
      "NO\n",
      "10\n",
      "YES\n"
     ]
    }
   ],
   "source": [
    "# Determine whether SpecialNumber or not\n",
    "def isspecialnumber(n,p):\n",
    "    if primefactor(n)>=p:\n",
    "        return True\n",
    "    return False\n",
    "\n",
    "#Function to check if number is prime\n",
    "def isprime(n):\n",
    "    flag=1\n",
    "    if n==2:\n",
    "        return True\n",
    "    for i in range(2,n//2 + 1):\n",
    "        if n%i==0:\n",
    "            flag=0\n",
    "            return False\n",
    "    if flag==1:\n",
    "        return True\n",
    "\n",
    "        \n",
    "#Function to determine number of prime factorfs for a given number\n",
    "def primefactor(n):\n",
    "    if isprime(n):\n",
    "        return 1\n",
    "    count=0\n",
    "    for i in range(2,n//2 + 1):\n",
    "        if isprime(i)and n%i==0:\n",
    "            count+=1\n",
    "    return count\n",
    "isspecialnumber(6,2)\n",
    "\n",
    "\n",
    "def solution():\n",
    "    p=int(input())\n",
    "    t=int(input())\n",
    "    for i in range(0,t):\n",
    "        n=int(input())\n",
    "        if isspecialnumber(n,p):\n",
    "            print('YES')\n",
    "        else:\n",
    "            print('NO')\n",
    "solution()\n",
    "            "
   ]
  },
  {
   "cell_type": "markdown",
   "metadata": {},
   "source": [
    "# Problem : Heighest Reminder\n",
    " \n",
    "### Write a program to find a natural number , that is smaller than N highest reminder when divided by that number if there is more than one such number, print the smallest one\n",
    "\n",
    "N \n",
    "Heighest = 0\n",
    "X<N and n%x==heighest\n",
    "\n",
    "\n"
   ]
  },
  {
   "cell_type": "code",
   "execution_count": 18,
   "metadata": {},
   "outputs": [
    {
     "name": "stdout",
     "output_type": "stream",
     "text": [
      "2\n"
     ]
    }
   ],
   "source": [
    "def heighest(n):\n",
    "    h=0\n",
    "    v=n\n",
    "    for i in range(n-1,n//2+1):\n",
    "        r = n%i\n",
    "        if r>h:\n",
    "            h<r\n",
    "            v=i\n",
    "    print(v)\n",
    "    return\n",
    "heighest(2)\n",
    "        "
   ]
  },
  {
   "cell_type": "code",
   "execution_count": 7,
   "metadata": {},
   "outputs": [
    {
     "name": "stdout",
     "output_type": "stream",
     "text": [
      "[1, 2, 4, 5, 6, 8, 8]\n"
     ]
    }
   ],
   "source": [
    "a=[1,4,6,8,2,5,8]\n",
    "a.sort()\n",
    "print(a)\n",
    "    "
   ]
  },
  {
   "cell_type": "markdown",
   "metadata": {},
   "source": [
    "# Tuples \n",
    "- t1=()\n",
    "- li=[]\n",
    "\n",
    "* Difference between Lists and Tuples\n",
    "* Lists are mutable-can be change/Modified\n",
    "* Tuples are immutable - cannot be changed ince intlisied\n",
    "- used to access data only\n",
    "- All slicing work"
   ]
  },
  {
   "cell_type": "code",
   "execution_count": 18,
   "metadata": {},
   "outputs": [
    {
     "data": {
      "text/plain": [
       "(4, 5, 6)"
      ]
     },
     "execution_count": 18,
     "metadata": {},
     "output_type": "execute_result"
    }
   ],
   "source": [
    "t1=(1,2,3,4,5,6)\n",
    "t1[4] # Accessing the fourth elelment\n",
    "\n",
    "t1[len(t1)//2:]#Accessing all eleemnts from middle to last"
   ]
  },
  {
   "cell_type": "code",
   "execution_count": 19,
   "metadata": {},
   "outputs": [
    {
     "data": {
      "text/plain": [
       "(1, 2, 3, 4, 5, 6)"
      ]
     },
     "execution_count": 19,
     "metadata": {},
     "output_type": "execute_result"
    }
   ],
   "source": [
    "tuple(t1)"
   ]
  },
  {
   "cell_type": "markdown",
   "metadata": {},
   "source": [
    "# Dictionaries\n",
    "\n",
    "* It works on the concept of set unique data  keys , values pairs\n",
    "* key is the unique identifier for the value\n",
    "* value is data that can be accessed with a key\n"
   ]
  },
  {
   "cell_type": "code",
   "execution_count": 26,
   "metadata": {},
   "outputs": [
    {
     "data": {
      "text/plain": [
       "{'k1': 'value1', 'k2': 'value2', 'k3': 'value4'}"
      ]
     },
     "execution_count": 26,
     "metadata": {},
     "output_type": "execute_result"
    }
   ],
   "source": [
    "d1={'k1':'value1','k2':'value2'}\n",
    "d1['k2'] # accessing value with key\n",
    "d1.keys() # returns list of all keys\n",
    "d1.values()#returns list of all values\n",
    "d1.items()# returns list of tuples of keys and values\n",
    "d1['k3']='value3' # adding an element to the dictionary\n",
    "d1['k3']='value4' # updating an element\n",
    "d1.pop('k3')# removing an element\n",
    "d1.popitem()\n",
    "d1"
   ]
  },
  {
   "cell_type": "markdown",
   "metadata": {},
   "source": [
    "# Contacts Appliclation\n",
    "\n",
    "- Add Contact\n",
    "- search for contact\n",
    "- List of all contacts\n",
    "- Modify contact\n",
    "- Remove contact"
   ]
  },
  {
   "cell_type": "code",
   "execution_count": 62,
   "metadata": {},
   "outputs": [
    {
     "name": "stdout",
     "output_type": "stream",
     "text": [
      "enter the name:sai\n",
      "enter the mobileno:8757808753\n",
      "contact sai added\n"
     ]
    }
   ],
   "source": [
    "name=input('enter the name:')\n",
    "phone=int(input('enter the mobileno:'))\n",
    "contacts={}\n",
    "def addcontact(name,phone):\n",
    "    # verify that the contact doesnnot already exit\n",
    "    if name not in contacts:\n",
    "        contacts[name]=phone\n",
    "        print('contact %s added'%name)\n",
    "    else:\n",
    "        print('contact %s already exists'%name)\n",
    "    return\n",
    "addcontact(name,phone)\n",
    "        "
   ]
  },
  {
   "cell_type": "code",
   "execution_count": 31,
   "metadata": {},
   "outputs": [
    {
     "name": "stdout",
     "output_type": "stream",
     "text": [
      "name1 : 7702483004\n"
     ]
    }
   ],
   "source": [
    "def searchcontacts(name):\n",
    "    if name in contacts:\n",
    "        print(name,':',contacts[name])\n",
    "    else:\n",
    "        print(\"%s does not exists\"%name)\n",
    "    return\n",
    "searchcontacts('name1')"
   ]
  },
  {
   "cell_type": "code",
   "execution_count": 84,
   "metadata": {},
   "outputs": [
    {
     "name": "stdout",
     "output_type": "stream",
     "text": [
      "2 added successfully\n"
     ]
    }
   ],
   "source": [
    "def importcontacts(newcontacts):\n",
    "    contacts.update(newcontacts)\n",
    "    print(len(newcontacts.keys()),'added successfully')\n",
    "    return\n",
    "\n",
    "newcontacts={'anil':8919066749,'baby':9704708500}\n",
    "importcontacts(newcontacts)\n"
   ]
  },
  {
   "cell_type": "code",
   "execution_count": 34,
   "metadata": {},
   "outputs": [
    {
     "data": {
      "text/plain": [
       "{'name1': '7702483004', 'name2': 8919066749, 'name3': 9704708500}"
      ]
     },
     "execution_count": 34,
     "metadata": {},
     "output_type": "execute_result"
    }
   ],
   "source": [
    "contacts"
   ]
  },
  {
   "cell_type": "code",
   "execution_count": 92,
   "metadata": {},
   "outputs": [
    {
     "name": "stdout",
     "output_type": "stream",
     "text": [
      "updated anil successfully\n"
     ]
    }
   ],
   "source": [
    "def modify(name,mobileno):\n",
    "    if name in contacts:\n",
    "        contacts[name]=mobileno\n",
    "        print(\"updated %s successfully\"%name)\n",
    "    else:\n",
    "        print('if does not contacts ', name)\n",
    "    return\n",
    "modify('anil',7702483002)"
   ]
  },
  {
   "cell_type": "code",
   "execution_count": 98,
   "metadata": {},
   "outputs": [
    {
     "name": "stdout",
     "output_type": "stream",
     "text": [
      "successfully deleted anil\n"
     ]
    }
   ],
   "source": [
    "def remove(name,mobileno):\n",
    "    if name in contacts:\n",
    "        contacts.pop(name)\n",
    "        print('successfully deleted',name)\n",
    "    else:\n",
    "        print('%s does not contacts '% name)\n",
    "remove('anil',8919066749)\n",
    "        "
   ]
  },
  {
   "cell_type": "code",
   "execution_count": 69,
   "metadata": {},
   "outputs": [
    {
     "data": {
      "text/plain": [
       "{'sai': 8757808753, 'name2': 8919066749, 'name3': 9704708500}"
      ]
     },
     "execution_count": 69,
     "metadata": {},
     "output_type": "execute_result"
    }
   ],
   "source": [
    "contacts\n"
   ]
  },
  {
   "cell_type": "code",
   "execution_count": 99,
   "metadata": {},
   "outputs": [
    {
     "data": {
      "text/plain": [
       "{'sai': 8757808753,\n",
       " 'name2': 8919066749,\n",
       " 'name3': 9704708500,\n",
       " 'baby': 9704708500}"
      ]
     },
     "execution_count": 99,
     "metadata": {},
     "output_type": "execute_result"
    }
   ],
   "source": [
    "def listof(contacts):\n",
    "    for key,values in contacts.items():\n",
    "        return contacts\n",
    "listof(contacts)\n",
    "        "
   ]
  },
  {
   "cell_type": "markdown",
   "metadata": {},
   "source": [
    "# packages and Modules\n",
    "\n",
    "## Package--> collection of modules(pythonFile.py)\n",
    "\n",
    "## subpackage--> \n",
    "\n",
    "## Modules--> single python file containing functions\n",
    "\n",
    "## package->subpackages->modules->functions"
   ]
  },
  {
   "cell_type": "code",
   "execution_count": 106,
   "metadata": {},
   "outputs": [
    {
     "data": {
      "text/plain": [
       "3.141592653589793"
      ]
     },
     "execution_count": 106,
     "metadata": {},
     "output_type": "execute_result"
    }
   ],
   "source": [
    "from math import floor,pi #as fl\n",
    "floor(123.45)\n",
    "pi"
   ]
  },
  {
   "cell_type": "code",
   "execution_count": 123,
   "metadata": {},
   "outputs": [
    {
     "name": "stdout",
     "output_type": "stream",
     "text": [
      "42-->3-->75-->36-->16-->76-->96-->60-->65-->47-->"
     ]
    }
   ],
   "source": [
    "# Function to generate n random numbers\n",
    "import random\n",
    "def randoms(n,lb, ub):\n",
    "    for i  in range(0,n):\n",
    "        print(random.randint(lb,ub),end='-->')\n",
    "    \n",
    "randoms(10,0,100)\n"
   ]
  },
  {
   "cell_type": "code",
   "execution_count": null,
   "metadata": {},
   "outputs": [],
   "source": []
  },
  {
   "cell_type": "code",
   "execution_count": 18,
   "metadata": {
    "scrolled": false
   },
   "outputs": [
    {
     "data": {
      "text/plain": [
       "1"
      ]
     },
     "execution_count": 18,
     "metadata": {},
     "output_type": "execute_result"
    }
   ],
   "source": [
    "from packages import numerical\n",
    "numerical.primefactor(5)"
   ]
  },
  {
   "cell_type": "code",
   "execution_count": null,
   "metadata": {},
   "outputs": [],
   "source": []
  },
  {
   "cell_type": "code",
   "execution_count": null,
   "metadata": {},
   "outputs": [],
   "source": []
  }
 ],
 "metadata": {
  "kernelspec": {
   "display_name": "Python 3",
   "language": "python",
   "name": "python3"
  },
  "language_info": {
   "codemirror_mode": {
    "name": "ipython",
    "version": 3
   },
   "file_extension": ".py",
   "mimetype": "text/x-python",
   "name": "python",
   "nbconvert_exporter": "python",
   "pygments_lexer": "ipython3",
   "version": "3.7.3"
  }
 },
 "nbformat": 4,
 "nbformat_minor": 2
}
